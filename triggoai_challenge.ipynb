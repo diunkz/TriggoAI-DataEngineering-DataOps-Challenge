{
 "cells": [
  {
   "cell_type": "markdown",
   "metadata": {
    "id": "0CdLOjp5DNS9"
   },
   "source": [
    "TODO\n",
    "- mudar o length de products que está errado - OK\n",
    "- verificar as colunas de relação, que não podem ter null - ok\n",
    "- Verificar os duplicados de geolocalização\n",
    "- Fazer o Dataframe principal com as relações\n",
    "\n",
    "pip:\n",
    "- notebook\n",
    "- pandas"
   ]
  },
  {
   "cell_type": "markdown",
   "metadata": {},
   "source": [
    "# 0 - Preparando o Ambiente"
   ]
  },
  {
   "cell_type": "markdown",
   "metadata": {},
   "source": [
    "## 0.1 - Download dos CSVs"
   ]
  },
  {
   "cell_type": "markdown",
   "metadata": {},
   "source": [
    "Com os comandos:\n",
    "- **curl**: conseguimos baixar o .zip do Kaggle e salvar na pasta brazilian_ecommerce;\n",
    "- **rm**: caso exista uma pasta com o nome brazilian_ecommerce, apaga ela para não atrapalhar o projeto.\n",
    "- **unzip**: extrai o .zip que foi baixado o Kaggle"
   ]
  },
  {
   "cell_type": "code",
   "execution_count": 47,
   "metadata": {
    "colab": {
     "base_uri": "https://localhost:8080/"
    },
    "id": "eRKG93bmWcm7",
    "outputId": "199b6264-0f1a-4d73-b44f-7e4cc67057f2"
   },
   "outputs": [
    {
     "name": "stdout",
     "output_type": "stream",
     "text": [
      "  % Total    % Received % Xferd  Average Speed   Time    Time     Time  Current\n",
      "                                 Dload  Upload   Total   Spent    Left  Speed\n",
      "  0     0    0     0    0     0      0      0 --:--:-- --:--:-- --:--:--     0\n",
      "100 42.6M  100 42.6M    0     0  14.2M      0  0:00:02  0:00:02 --:--:-- 24.2M\n",
      "Archive:  brazilian-ecommerce.zip\n",
      "  inflating: brazilian_ecommerce/olist_customers_dataset.csv  \n",
      "  inflating: brazilian_ecommerce/olist_geolocation_dataset.csv  \n",
      "  inflating: brazilian_ecommerce/olist_order_items_dataset.csv  \n",
      "  inflating: brazilian_ecommerce/olist_order_payments_dataset.csv  \n",
      "  inflating: brazilian_ecommerce/olist_order_reviews_dataset.csv  \n",
      "  inflating: brazilian_ecommerce/olist_orders_dataset.csv  \n",
      "  inflating: brazilian_ecommerce/olist_products_dataset.csv  \n",
      "  inflating: brazilian_ecommerce/olist_sellers_dataset.csv  \n",
      "  inflating: brazilian_ecommerce/product_category_name_translation.csv  \n"
     ]
    }
   ],
   "source": [
    "!curl -L -o brazilian-ecommerce.zip https://www.kaggle.com/api/v1/datasets/download/olistbr/brazilian-ecommerce\n",
    "!rm -rf brazilian_ecommerce\n",
    "!unzip brazilian-ecommerce.zip -d brazilian_ecommerce\n",
    "!rm brazilian-ecommerce.zip"
   ]
  },
  {
   "cell_type": "markdown",
   "metadata": {},
   "source": [
    "## 0.2 - Download das bibliotecas necessárias\n",
    "\n",
    "Usando pip para a instalação das bibliotecas necessárias no decorrer do projeto"
   ]
  },
  {
   "cell_type": "code",
   "execution_count": null,
   "metadata": {
    "colab": {
     "base_uri": "https://localhost:8080/"
    },
    "id": "ZKx5STcqgBw8",
    "outputId": "a6d4ef3f-7a67-4697-aa3f-4665c43dac1d"
   },
   "outputs": [],
   "source": [
    "!pip install pandas"
   ]
  },
  {
   "cell_type": "markdown",
   "metadata": {},
   "source": [
    "# 1 - Preparação dos Dados"
   ]
  },
  {
   "cell_type": "markdown",
   "metadata": {},
   "source": [
    "## 1.1 - Importações Python\n",
    "\n",
    "Importando ibliotecas necessárias para a execução completa do notebook"
   ]
  },
  {
   "cell_type": "code",
   "execution_count": 55,
   "metadata": {
    "id": "4k1bNW-8WqYd"
   },
   "outputs": [],
   "source": [
    "import os\n",
    "import pandas as pd"
   ]
  },
  {
   "cell_type": "markdown",
   "metadata": {},
   "source": [
    "## 1.2 - Preparando os DataFrames com os dados dos CSVs"
   ]
  },
  {
   "cell_type": "code",
   "execution_count": 56,
   "metadata": {
    "colab": {
     "base_uri": "https://localhost:8080/"
    },
    "id": "4CHFxxsdfroN",
    "outputId": "886a8a9e-2859-4a78-ae4f-8e5e8e952545"
   },
   "outputs": [
    {
     "name": "stdout",
     "output_type": "stream",
     "text": [
      "sellers_df loaded with 3095 lines.\n",
      "product_category_name_translation loaded with 71 lines.\n",
      "orders_df loaded with 99441 lines.\n",
      "order_items_df loaded with 112650 lines.\n",
      "customers_df loaded with 99441 lines.\n",
      "geolocation_df loaded with 1000163 lines.\n",
      "order_payments_df loaded with 103886 lines.\n",
      "order_reviews_df loaded with 99224 lines.\n",
      "products_df loaded with 32951 lines.\n"
     ]
    }
   ],
   "source": [
    "# Diretório que foi criado na etapa de preparação do ambiente \n",
    "folder = \"brazilian_ecommerce\"\n",
    "\n",
    "# Lista todos os arquivos CSV na pasta\n",
    "csv_files = [f for f in os.listdir(folder) if f.endswith('.csv')]\n",
    "dataframe_names = []\n",
    "\n",
    "# Carrega os DataFrames dinamicamente\n",
    "for file in csv_files:\n",
    "    # Remove extensão .csv\n",
    "    base_name = file.replace('.csv', '')\n",
    "    # Remove 'olist_', troca 'dataset' por 'df'\n",
    "    df_name = base_name.replace('olist_', '').replace('dataset', 'df')\n",
    "    # Lê o CSV\n",
    "    complete_path = os.path.join(folder, file)\n",
    "    dataframe_names.append(df_name)\n",
    "    # Salva em variáveis globais, reaproveitando o nome do arquivo que foi modificado\n",
    "    globals()[df_name] = pd.read_csv(complete_path)\n",
    "    print(f\"{df_name} loaded with {globals()[df_name].shape[0]} lines.\")"
   ]
  },
  {
   "cell_type": "markdown",
   "metadata": {},
   "source": [
    "## 1.3 - Analisando Dataframes"
   ]
  },
  {
   "cell_type": "code",
   "execution_count": 33,
   "metadata": {},
   "outputs": [
    {
     "name": "stdout",
     "output_type": "stream",
     "text": [
      "DataFrame: sellers_df\n",
      "<class 'pandas.core.frame.DataFrame'>\n",
      "RangeIndex: 3095 entries, 0 to 3094\n",
      "Data columns (total 4 columns):\n",
      " #   Column                  Non-Null Count  Dtype \n",
      "---  ------                  --------------  ----- \n",
      " 0   seller_id               3095 non-null   object\n",
      " 1   seller_zip_code_prefix  3095 non-null   int64 \n",
      " 2   seller_city             3095 non-null   object\n",
      " 3   seller_state            3095 non-null   object\n",
      "dtypes: int64(1), object(3)\n",
      "memory usage: 96.8+ KB\n",
      "None\n",
      "\n",
      "-------------------------------------------------\n",
      "\n",
      "DataFrame: product_category_name_translation\n",
      "<class 'pandas.core.frame.DataFrame'>\n",
      "RangeIndex: 71 entries, 0 to 70\n",
      "Data columns (total 2 columns):\n",
      " #   Column                         Non-Null Count  Dtype \n",
      "---  ------                         --------------  ----- \n",
      " 0   product_category_name          71 non-null     object\n",
      " 1   product_category_name_english  71 non-null     object\n",
      "dtypes: object(2)\n",
      "memory usage: 1.2+ KB\n",
      "None\n",
      "\n",
      "-------------------------------------------------\n",
      "\n",
      "DataFrame: orders_df\n",
      "<class 'pandas.core.frame.DataFrame'>\n",
      "RangeIndex: 99441 entries, 0 to 99440\n",
      "Data columns (total 8 columns):\n",
      " #   Column                         Non-Null Count  Dtype \n",
      "---  ------                         --------------  ----- \n",
      " 0   order_id                       99441 non-null  object\n",
      " 1   customer_id                    99441 non-null  object\n",
      " 2   order_status                   99441 non-null  object\n",
      " 3   order_purchase_timestamp       99441 non-null  object\n",
      " 4   order_approved_at              99281 non-null  object\n",
      " 5   order_delivered_carrier_date   97658 non-null  object\n",
      " 6   order_delivered_customer_date  96476 non-null  object\n",
      " 7   order_estimated_delivery_date  99441 non-null  object\n",
      "dtypes: object(8)\n",
      "memory usage: 6.1+ MB\n",
      "None\n",
      "\n",
      "-------------------------------------------------\n",
      "\n",
      "DataFrame: order_items_df\n",
      "<class 'pandas.core.frame.DataFrame'>\n",
      "RangeIndex: 112650 entries, 0 to 112649\n",
      "Data columns (total 7 columns):\n",
      " #   Column               Non-Null Count   Dtype  \n",
      "---  ------               --------------   -----  \n",
      " 0   order_id             112650 non-null  object \n",
      " 1   order_item_id        112650 non-null  int64  \n",
      " 2   product_id           112650 non-null  object \n",
      " 3   seller_id            112650 non-null  object \n",
      " 4   shipping_limit_date  112650 non-null  object \n",
      " 5   price                112650 non-null  float64\n",
      " 6   freight_value        112650 non-null  float64\n",
      "dtypes: float64(2), int64(1), object(4)\n",
      "memory usage: 6.0+ MB\n",
      "None\n",
      "\n",
      "-------------------------------------------------\n",
      "\n",
      "DataFrame: customers_df\n",
      "<class 'pandas.core.frame.DataFrame'>\n",
      "RangeIndex: 99441 entries, 0 to 99440\n",
      "Data columns (total 5 columns):\n",
      " #   Column                    Non-Null Count  Dtype \n",
      "---  ------                    --------------  ----- \n",
      " 0   customer_id               99441 non-null  object\n",
      " 1   customer_unique_id        99441 non-null  object\n",
      " 2   customer_zip_code_prefix  99441 non-null  int64 \n",
      " 3   customer_city             99441 non-null  object\n",
      " 4   customer_state            99441 non-null  object\n",
      "dtypes: int64(1), object(4)\n",
      "memory usage: 3.8+ MB\n",
      "None\n",
      "\n",
      "-------------------------------------------------\n",
      "\n",
      "DataFrame: geolocation_df\n",
      "<class 'pandas.core.frame.DataFrame'>\n",
      "RangeIndex: 1000163 entries, 0 to 1000162\n",
      "Data columns (total 5 columns):\n",
      " #   Column                       Non-Null Count    Dtype  \n",
      "---  ------                       --------------    -----  \n",
      " 0   geolocation_zip_code_prefix  1000163 non-null  int64  \n",
      " 1   geolocation_lat              1000163 non-null  float64\n",
      " 2   geolocation_lng              1000163 non-null  float64\n",
      " 3   geolocation_city             1000163 non-null  object \n",
      " 4   geolocation_state            1000163 non-null  object \n",
      "dtypes: float64(2), int64(1), object(2)\n",
      "memory usage: 38.2+ MB\n",
      "None\n",
      "\n",
      "-------------------------------------------------\n",
      "\n",
      "DataFrame: order_payments_df\n",
      "<class 'pandas.core.frame.DataFrame'>\n",
      "RangeIndex: 103886 entries, 0 to 103885\n",
      "Data columns (total 5 columns):\n",
      " #   Column                Non-Null Count   Dtype  \n",
      "---  ------                --------------   -----  \n",
      " 0   order_id              103886 non-null  object \n",
      " 1   payment_sequential    103886 non-null  int64  \n",
      " 2   payment_type          103886 non-null  object \n",
      " 3   payment_installments  103886 non-null  int64  \n",
      " 4   payment_value         103886 non-null  float64\n",
      "dtypes: float64(1), int64(2), object(2)\n",
      "memory usage: 4.0+ MB\n",
      "None\n",
      "\n",
      "-------------------------------------------------\n",
      "\n",
      "DataFrame: order_reviews_df\n",
      "<class 'pandas.core.frame.DataFrame'>\n",
      "RangeIndex: 99224 entries, 0 to 99223\n",
      "Data columns (total 7 columns):\n",
      " #   Column                   Non-Null Count  Dtype \n",
      "---  ------                   --------------  ----- \n",
      " 0   review_id                99224 non-null  object\n",
      " 1   order_id                 99224 non-null  object\n",
      " 2   review_score             99224 non-null  int64 \n",
      " 3   review_comment_title     11568 non-null  object\n",
      " 4   review_comment_message   40977 non-null  object\n",
      " 5   review_creation_date     99224 non-null  object\n",
      " 6   review_answer_timestamp  99224 non-null  object\n",
      "dtypes: int64(1), object(6)\n",
      "memory usage: 5.3+ MB\n",
      "None\n",
      "\n",
      "-------------------------------------------------\n",
      "\n",
      "DataFrame: products_df\n",
      "<class 'pandas.core.frame.DataFrame'>\n",
      "RangeIndex: 32951 entries, 0 to 32950\n",
      "Data columns (total 9 columns):\n",
      " #   Column                      Non-Null Count  Dtype  \n",
      "---  ------                      --------------  -----  \n",
      " 0   product_id                  32951 non-null  object \n",
      " 1   product_category_name       32341 non-null  object \n",
      " 2   product_name_lenght         32341 non-null  float64\n",
      " 3   product_description_lenght  32341 non-null  float64\n",
      " 4   product_photos_qty          32341 non-null  float64\n",
      " 5   product_weight_g            32949 non-null  float64\n",
      " 6   product_length_cm           32949 non-null  float64\n",
      " 7   product_height_cm           32949 non-null  float64\n",
      " 8   product_width_cm            32949 non-null  float64\n",
      "dtypes: float64(7), object(2)\n",
      "memory usage: 2.3+ MB\n",
      "None\n",
      "\n",
      "-------------------------------------------------\n",
      "\n"
     ]
    }
   ],
   "source": [
    "for df_name in dataframe_names:\n",
    "    print(f\"DataFrame: {df_name}\")\n",
    "    # display(globals()[df_name].head(3))\n",
    "    print(globals()[df_name].info())\n",
    "    # print(globals()[df_name].columns)\n",
    "\n",
    "    # criando um separador entre os dados visualizados\n",
    "    print()\n",
    "    print('-'*49)\n",
    "    print()"
   ]
  },
  {
   "cell_type": "markdown",
   "metadata": {},
   "source": [
    "Com o **.info()**, podemos verificar características como:\n",
    "- quantidade de colunas;\n",
    "- nome das colunas;\n",
    "- tipo da coluna;\n",
    "- também contador de dados não nulos."
   ]
  },
  {
   "cell_type": "markdown",
   "metadata": {},
   "source": [
    "Ao analisar o nome das colunas, é possível perceber que no dataframe **products_df** existem duas colunas com o nome errado:\n",
    "- product_name_lenght\n",
    "- product_description_lenght\n",
    "\n",
    "Como o correto é **length**, estarei corrigindo o nome:"
   ]
  },
  {
   "cell_type": "code",
   "execution_count": 57,
   "metadata": {},
   "outputs": [
    {
     "data": {
      "text/plain": [
       "Index(['product_id', 'product_category_name', 'product_name_length',\n",
       "       'product_description_length', 'product_photos_qty', 'product_weight_g',\n",
       "       'product_length_cm', 'product_height_cm', 'product_width_cm'],\n",
       "      dtype='object')"
      ]
     },
     "execution_count": 57,
     "metadata": {},
     "output_type": "execute_result"
    }
   ],
   "source": [
    "products_df.rename(columns={\n",
    "    'product_name_lenght': 'product_name_length',\n",
    "    'product_description_lenght': 'product_description_length'\n",
    "}, inplace=True)\n",
    "\n",
    "products_df.columns"
   ]
  },
  {
   "cell_type": "markdown",
   "metadata": {},
   "source": [
    "Corrigindo o nome nas colunas, passamos para o próximo passo: as informações **RangeIndex** e **Non-Null Count** dada pelo **info()**. \n",
    "Com o **RangeIndex**, observamos o número de linhas de cada coluna. Se o **Non-Null Count** não é igual, significa que alguns valores são nulos. Por isso, é necessária uma análise para saber o que pode ser nulo e o que não pode."
   ]
  },
  {
   "cell_type": "markdown",
   "metadata": {},
   "source": [
    "### 🧼 Análise de Colunas com Possíveis Valores Nulos"
   ]
  },
  {
   "cell_type": "markdown",
   "metadata": {
    "jp-MarkdownHeadingCollapsed": true
   },
   "source": [
    "#### ✅ Objetivo\n",
    "Identificar quais colunas de cada DataFrame **podem conter valores nulos**, com base no tipo da coluna e na função dela (chave primária, chave estrangeira ou campo informativo)."
   ]
  },
  {
   "cell_type": "markdown",
   "metadata": {
    "jp-MarkdownHeadingCollapsed": true
   },
   "source": [
    "#### 📌 Regras Gerais\n",
    "\n",
    "| Tipo de Chave        | Pode ter `null`? | Deve ser Única? |\n",
    "|----------------------|------------------|------------------|\n",
    "| **Chave Primária**   | ❌ Nunca          | ✅ Sim           |\n",
    "| **Chave Estrangeira**| ✅ Sim (às vezes) | ❌ Não           |"
   ]
  },
  {
   "cell_type": "markdown",
   "metadata": {},
   "source": [
    "#### 🔍 Análise DataFrame por DataFrame"
   ]
  },
  {
   "cell_type": "markdown",
   "metadata": {},
   "source": [
    "`sellers_df`\n",
    "\n",
    "| Coluna                  | Pode ter `null`? | Justificativa                     |\n",
    "|------------------------|------------------|-----------------------------------|\n",
    "| `seller_id`            | ❌ Não            | Chave primária                    |\n",
    "| `seller_zip_code_prefix` | ❌ Não          | Localização obrigatória           |\n",
    "| `seller_city`          | ❌ Não            | Sempre presente                   |\n",
    "| `seller_state`         | ❌ Não            | Sempre presente                   |"
   ]
  },
  {
   "cell_type": "markdown",
   "metadata": {},
   "source": [
    "`product_category_name_translation`\n",
    "\n",
    "| Coluna                          | Pode ter `null`? | Justificativa                     |\n",
    "|--------------------------------|------------------|-----------------------------------|\n",
    "| `product_category_name`        | ❌ Não            | Chave primária                    |\n",
    "| `product_category_name_english`| ❌ Não            | Tradução correspondente           |"
   ]
  },
  {
   "cell_type": "markdown",
   "metadata": {},
   "source": [
    "`orders_df`\n",
    "\n",
    "| Coluna                          | Pode ter `null`? | Justificativa                         |\n",
    "|---------------------------------|------------------|---------------------------------------|\n",
    "| `order_id`                      | ❌ Não            | Chave primária                        |\n",
    "| `customer_id`                   | ❌ Não            | FK obrigatória                        |\n",
    "| `order_status`                  | ❌ Não            | Status sempre presente                |\n",
    "| `order_purchase_timestamp`      | ❌ Não            | Sempre presente                       |\n",
    "| `order_approved_at`             | ✅ Sim            | Pode não ter sido aprovado ainda      |\n",
    "| `order_delivered_carrier_date`  | ✅ Sim            | Pode não ter sido enviado             |\n",
    "| `order_delivered_customer_date` | ✅ Sim            | Pode não ter sido entregue            |\n",
    "| `order_estimated_delivery_date` | ❌ Não            | Sempre gerada                         |"
   ]
  },
  {
   "cell_type": "markdown",
   "metadata": {},
   "source": [
    "`order_items_df`\n",
    "\n",
    "| Coluna               | Pode ter `null`? | Justificativa                                    |\n",
    "|----------------------|------------------|--------------------------------------------------|\n",
    "| `order_id`           | ❌ Não            | Chave estrangeira                                |\n",
    "| `order_item_id`      | ❌ Não            | Parte da chave primária composta                 |\n",
    "| `product_id`         | ✅ Sim (raro)     | Pode haver produto não cadastrado                |\n",
    "| `seller_id`          | ❌ Não            | Sempre presente                                  |\n",
    "| `shipping_limit_date`| ❌ Não            | Data definida para envio                         |\n",
    "| `price`              | ❌ Não            | Sempre presente                                  |\n",
    "| `freight_value`      | ❌ Não            | Sempre presente                                  |"
   ]
  },
  {
   "cell_type": "markdown",
   "metadata": {},
   "source": [
    "`customers_df`\n",
    "\n",
    "| Coluna                     | Pode ter `null`? | Justificativa                  |\n",
    "|----------------------------|------------------|--------------------------------|\n",
    "| `customer_id`              | ❌ Não            | Chave primária                |\n",
    "| `customer_unique_id`       | ❌ Não            | Sempre presente               |\n",
    "| `customer_zip_code_prefix` | ❌ Não            | Localização                   |\n",
    "| `customer_city`            | ❌ Não            | Sempre presente               |\n",
    "| `customer_state`           | ❌ Não            | Sempre presente               |"
   ]
  },
  {
   "cell_type": "markdown",
   "metadata": {},
   "source": [
    "`geolocation_df`\n",
    "\n",
    "| Coluna                        | Pode ter `null`? | Justificativa                          |\n",
    "|-------------------------------|------------------|----------------------------------------|\n",
    "| `geolocation_zip_code_prefix` | ❌ Não            | Usado como referência de localização   |\n",
    "| `geolocation_lat`             | ❌ Não            | Latitude                                |\n",
    "| `geolocation_lng`             | ❌ Não            | Longitude                               |\n",
    "| `geolocation_city`            | ❌ Não            | Sempre presente                         |\n",
    "| `geolocation_state`           | ❌ Não            | Sempre presente                         |\n",
    "\n",
    "> ⚠️ Apesar de não ter chave primária formal, essa tabela não deve conter `nulls`."
   ]
  },
  {
   "cell_type": "markdown",
   "metadata": {},
   "source": [
    "`order_payments_df`\n",
    "\n",
    "| Coluna               | Pode ter `null`? | Justificativa              |\n",
    "|----------------------|------------------|----------------------------|\n",
    "| `order_id`           | ❌ Não            | Chave estrangeira         |\n",
    "| `payment_sequential` | ❌ Não            | Parte da chave composta   |\n",
    "| `payment_type`       | ❌ Não            | Sempre presente           |\n",
    "| `payment_installments`| ❌ Não           | Sempre presente           |\n",
    "| `payment_value`      | ❌ Não            | Sempre presente           |"
   ]
  },
  {
   "cell_type": "markdown",
   "metadata": {},
   "source": [
    "`order_reviews_df`\n",
    "\n",
    "| Coluna                   | Pode ter `null`? | Justificativa                               |\n",
    "|---------------------------|------------------|---------------------------------------------|\n",
    "| `review_id`              | ❌ Não            | Chave primária                              |\n",
    "| `order_id`               | ❌ Não            | FK obrigatória                              |\n",
    "| `review_score`           | ❌ Não            | Sempre presente                             |\n",
    "| `review_comment_title`   | ✅ Sim            | Comentário opcional                         |\n",
    "| `review_comment_message` | ✅ Sim            | Comentário opcional                         |\n",
    "| `review_creation_date`   | ❌ Não            | Sempre presente                             |\n",
    "| `review_answer_timestamp`| ✅ Sim            | Pode não ter sido respondido ainda          |"
   ]
  },
  {
   "cell_type": "markdown",
   "metadata": {},
   "source": [
    "`products_df`\n",
    "\n",
    "| Coluna                         | Pode ter `null`? | Justificativa                                  |\n",
    "|--------------------------------|------------------|------------------------------------------------|\n",
    "| `product_id`                   | ❌ Não            | Chave primária                                |\n",
    "| `product_category_name`        | ✅ Sim            | Pode ser desconhecida                          |\n",
    "| `product_name_length`          | ✅ Sim            | Dados ausentes para alguns produtos            |\n",
    "| `product_description_length`   | ✅ Sim            | Idem acima                                     |\n",
    "| `product_photos_qty`           | ✅ Sim            | Idem                                           |\n",
    "| `product_weight_g`             | ✅ Sim            | Pode estar ausente                             |\n",
    "| `product_length_cm`            | ✅ Sim            | Idem                                           |\n",
    "| `product_height_cm`            | ✅ Sim            | Idem                                           |\n",
    "| `product_width_cm`             | ✅ Sim            | Idem                                           |"
   ]
  },
  {
   "cell_type": "markdown",
   "metadata": {},
   "source": [
    "Ao verificar cada coluna utilizando **info()**, confirmamos que:\n",
    "\n",
    "`sellers_df`, `product_category_name_translation`, `order_items_df`, `customers_df`, `geolocation_df`, `order_payments_df` não possuem valores nulos.\n",
    "\n",
    "`orders_df` possui colunas com valores nulos:\n",
    "\n",
    "> `order_approved_at`, `order_delivered_carrier_date`, `order_delivered_customer_date`, mas essas colunas podem conter valores nulos\n",
    "\n",
    "`orders_reviews_df` possui colunas com valores nulos:\n",
    "\n",
    "> `review_comment_title`, `review_comment_message`, mas essas colunas podem conter valores nulos\n",
    "\n",
    "`products_df` possui colunas com valores nulos:\n",
    "\n",
    "> `product_category_name`, `product_name_length`, `product_description_length`, `product_photos_qty`, `product_weight_g`, `product_length_cm`, `product_height_cm`, `product_width_cm`, mas essas colunas podem conter valores nulos"
   ]
  },
  {
   "cell_type": "markdown",
   "metadata": {},
   "source": [
    "Para confirmar os dados acima, o código abaixo vai remover todos os valores nulos para cada coluna (em cada DataFrame) que não pode ter valores nulos."
   ]
  },
  {
   "cell_type": "code",
   "execution_count": 58,
   "metadata": {},
   "outputs": [
    {
     "name": "stdout",
     "output_type": "stream",
     "text": [
      "orders_df: 0 linhas removidas devido a valores nulos nas colunas obrigatórias.\n",
      "order_items_df: 0 linhas removidas devido a valores nulos nas colunas obrigatórias.\n",
      "customers_df: 0 linhas removidas devido a valores nulos nas colunas obrigatórias.\n",
      "geolocation_df: 0 linhas removidas devido a valores nulos nas colunas obrigatórias.\n",
      "order_payments_df: 0 linhas removidas devido a valores nulos nas colunas obrigatórias.\n",
      "order_reviews_df: 0 linhas removidas devido a valores nulos nas colunas obrigatórias.\n",
      "products_df: 0 linhas removidas devido a valores nulos nas colunas obrigatórias.\n",
      "sellers_df: 0 linhas removidas devido a valores nulos nas colunas obrigatórias.\n",
      "product_category_name_translation: 0 linhas removidas devido a valores nulos nas colunas obrigatórias.\n"
     ]
    }
   ],
   "source": [
    "# Dicionário com colunas que não podem ter null para cada df\n",
    "nao_pode_ter_null = {\n",
    "    'orders_df': ['order_id', 'customer_id', 'order_status', 'order_purchase_timestamp', 'order_estimated_delivery_date'],\n",
    "    'order_items_df': ['order_id', 'order_item_id', 'seller_id', 'shipping_limit_date', 'price', 'freight_value'],\n",
    "    'customers_df': ['customer_id', 'customer_unique_id', 'customer_zip_code_prefix', 'customer_city', 'customer_state'],\n",
    "    'geolocation_df': ['geolocation_zip_code_prefix', 'geolocation_lat', 'geolocation_lng', 'geolocation_city', 'geolocation_state'],\n",
    "    'order_payments_df': ['order_id', 'payment_sequential', 'payment_type', 'payment_installments', 'payment_value'],\n",
    "    'order_reviews_df': ['review_id', 'order_id', 'review_score', 'review_creation_date'],\n",
    "    'products_df': ['product_id'],\n",
    "    'sellers_df': ['seller_id', 'seller_zip_code_prefix', 'seller_city', 'seller_state'],\n",
    "    'product_category_name_translation': ['product_category_name', 'product_category_name_english']\n",
    "}\n",
    "\n",
    "# Limpeza automática\n",
    "for df_name, colunas in nao_pode_ter_null.items():\n",
    "    df = globals()[df_name]\n",
    "    antes = df.shape[0]\n",
    "    df.dropna(subset=colunas, inplace=True)\n",
    "    depois = df.shape[0]\n",
    "    print(f\"{df_name}: {antes - depois} linhas removidas devido a valores nulos nas colunas obrigatórias.\")\n"
   ]
  },
  {
   "cell_type": "markdown",
   "metadata": {},
   "source": [
    "Pela saída percebemos que nenhuma linha foi removida. Mostrando que a verificação feita em utililizando **info()** faz sentido."
   ]
  },
  {
   "cell_type": "markdown",
   "metadata": {},
   "source": [
    "## 1.4 - Modificando Tipos"
   ]
  },
  {
   "cell_type": "markdown",
   "metadata": {},
   "source": [
    "Agora, precisamos resolver o problema de tipagem. Ao observar os dados utilizando **info()**, percebemos que diversas colunas estão com tipo object, principalmente datas.\n",
    "Vamos verificar novamente os tipos das colunas de cada DataFrame:"
   ]
  },
  {
   "cell_type": "code",
   "execution_count": 59,
   "metadata": {
    "colab": {
     "base_uri": "https://localhost:8080/"
    },
    "id": "qzNoHlud4QG6",
    "outputId": "99e25b8a-1ae3-4bca-b6c3-8b74b93ffb59",
    "scrolled": true
   },
   "outputs": [
    {
     "name": "stdout",
     "output_type": "stream",
     "text": [
      "Dataframe: sellers_df\n",
      "seller_id                 object\n",
      "seller_zip_code_prefix     int64\n",
      "seller_city               object\n",
      "seller_state              object\n",
      "dtype: object\n",
      "\n",
      "Dataframe: product_category_name_translation\n",
      "product_category_name            object\n",
      "product_category_name_english    object\n",
      "dtype: object\n",
      "\n",
      "Dataframe: orders_df\n",
      "order_id                         object\n",
      "customer_id                      object\n",
      "order_status                     object\n",
      "order_purchase_timestamp         object\n",
      "order_approved_at                object\n",
      "order_delivered_carrier_date     object\n",
      "order_delivered_customer_date    object\n",
      "order_estimated_delivery_date    object\n",
      "dtype: object\n",
      "\n",
      "Dataframe: order_items_df\n",
      "order_id                object\n",
      "order_item_id            int64\n",
      "product_id              object\n",
      "seller_id               object\n",
      "shipping_limit_date     object\n",
      "price                  float64\n",
      "freight_value          float64\n",
      "dtype: object\n",
      "\n",
      "Dataframe: customers_df\n",
      "customer_id                 object\n",
      "customer_unique_id          object\n",
      "customer_zip_code_prefix     int64\n",
      "customer_city               object\n",
      "customer_state              object\n",
      "dtype: object\n",
      "\n",
      "Dataframe: geolocation_df\n",
      "geolocation_zip_code_prefix      int64\n",
      "geolocation_lat                float64\n",
      "geolocation_lng                float64\n",
      "geolocation_city                object\n",
      "geolocation_state               object\n",
      "dtype: object\n",
      "\n",
      "Dataframe: order_payments_df\n",
      "order_id                 object\n",
      "payment_sequential        int64\n",
      "payment_type             object\n",
      "payment_installments      int64\n",
      "payment_value           float64\n",
      "dtype: object\n",
      "\n",
      "Dataframe: order_reviews_df\n",
      "review_id                  object\n",
      "order_id                   object\n",
      "review_score                int64\n",
      "review_comment_title       object\n",
      "review_comment_message     object\n",
      "review_creation_date       object\n",
      "review_answer_timestamp    object\n",
      "dtype: object\n",
      "\n",
      "Dataframe: products_df\n",
      "product_id                     object\n",
      "product_category_name          object\n",
      "product_name_length           float64\n",
      "product_description_length    float64\n",
      "product_photos_qty            float64\n",
      "product_weight_g              float64\n",
      "product_length_cm             float64\n",
      "product_height_cm             float64\n",
      "product_width_cm              float64\n",
      "dtype: object\n",
      "\n"
     ]
    }
   ],
   "source": [
    "# verificando tipos\n",
    "for df_name in dataframe_names:\n",
    "    print(f\"Dataframe: {df_name}\")\n",
    "    df = globals()[df_name]\n",
    "    print(df.dtypes)\n",
    "    print()"
   ]
  },
  {
   "cell_type": "markdown",
   "metadata": {},
   "source": [
    "Confirmando a diversidade de tipos, o código abaixo deixará os tipos padronizados.\n",
    "\n",
    "Mas como não queremos perder os NaNs, a melhor abordagem é usar os tipos inteiros nulos (Int64), oferecidos pelo Pandas. Eles preservam os NaNs mesmo em colunas numéricas inteiras."
   ]
  },
  {
   "cell_type": "code",
   "execution_count": 60,
   "metadata": {
    "colab": {
     "base_uri": "https://localhost:8080/",
     "height": 390
    },
    "id": "ca56jrM-5kXM",
    "outputId": "cf96c583-7053-40ac-bada-cdf7c2964d9f"
   },
   "outputs": [],
   "source": [
    "customers_df = customers_df.astype({\n",
    "    'customer_id': 'string',\n",
    "    'customer_unique_id': 'string',\n",
    "    'customer_zip_code_prefix': 'string',\n",
    "    'customer_city': 'string',\n",
    "    'customer_state': 'string'\n",
    "})\n",
    "\n",
    "geolocation_df = geolocation_df.astype({\n",
    "    'geolocation_zip_code_prefix': 'string',\n",
    "    'geolocation_lat': 'float64',\n",
    "    'geolocation_lng': 'float64',\n",
    "    'geolocation_city': 'string',\n",
    "    'geolocation_state': 'string'\n",
    "})\n",
    "\n",
    "order_items_df = order_items_df.astype({\n",
    "    'order_id': 'string',\n",
    "    'order_item_id': 'Int64',\n",
    "    'product_id': 'string',\n",
    "    'seller_id': 'string',\n",
    "    'price': 'float64',\n",
    "    'freight_value': 'float64'\n",
    "})\n",
    "order_items_df['shipping_limit_date'] = pd.to_datetime(order_items_df['shipping_limit_date'])\n",
    "\n",
    "order_payments_df = order_payments_df.astype({\n",
    "    'order_id': 'string',\n",
    "    'payment_sequential': 'Int64',\n",
    "    'payment_type': 'string',\n",
    "    'payment_installments': 'Int64',\n",
    "    'payment_value': 'float64'\n",
    "})\n",
    "\n",
    "order_reviews_df = order_reviews_df.astype({\n",
    "    'review_id': 'string',\n",
    "    'order_id': 'string',\n",
    "    'review_score': 'Int64',\n",
    "    'review_comment_title': 'string',\n",
    "    'review_comment_message': 'string'\n",
    "})\n",
    "order_reviews_df['review_creation_date'] = pd.to_datetime(order_reviews_df['review_creation_date'])\n",
    "order_reviews_df['review_answer_timestamp'] = pd.to_datetime(order_reviews_df['review_answer_timestamp'])\n",
    "\n",
    "orders_df = orders_df.astype({\n",
    "    'order_id': 'string',\n",
    "    'customer_id': 'string',\n",
    "    'order_status': 'string'\n",
    "})\n",
    "orders_df['order_purchase_timestamp'] = pd.to_datetime(orders_df['order_purchase_timestamp'])\n",
    "orders_df['order_approved_at'] = pd.to_datetime(orders_df['order_approved_at'])\n",
    "orders_df['order_delivered_carrier_date'] = pd.to_datetime(orders_df['order_delivered_carrier_date'])\n",
    "orders_df['order_delivered_customer_date'] = pd.to_datetime(orders_df['order_delivered_customer_date'])\n",
    "orders_df['order_estimated_delivery_date'] = pd.to_datetime(orders_df['order_estimated_delivery_date'])\n",
    "\n",
    "products_df = products_df.astype({\n",
    "    'product_id': 'string',\n",
    "    'product_category_name': 'string',\n",
    "    'product_name_length': 'Int64',\n",
    "    'product_description_length': 'Int64',\n",
    "    'product_photos_qty': 'Int64',\n",
    "    'product_weight_g': 'float64',\n",
    "    'product_length_cm': 'float64',\n",
    "    'product_height_cm': 'float64',\n",
    "    'product_width_cm': 'float64'\n",
    "})\n",
    "\n",
    "sellers_df = sellers_df.astype({\n",
    "    'seller_id': 'string',\n",
    "    'seller_zip_code_prefix': 'string',\n",
    "    'seller_city': 'string',\n",
    "    'seller_state': 'string'\n",
    "})\n",
    "\n",
    "product_category_name_translation = product_category_name_translation.astype({\n",
    "    'product_category_name': 'string',\n",
    "    'product_category_name_english': 'string'\n",
    "})\n"
   ]
  },
  {
   "cell_type": "markdown",
   "metadata": {},
   "source": [
    "Com o código acima executado, vamos verificar se a mudança de tipos foi realizada:"
   ]
  },
  {
   "cell_type": "code",
   "execution_count": 61,
   "metadata": {},
   "outputs": [
    {
     "name": "stdout",
     "output_type": "stream",
     "text": [
      "Dataframe: sellers_df\n",
      "seller_id                 string[python]\n",
      "seller_zip_code_prefix    string[python]\n",
      "seller_city               string[python]\n",
      "seller_state              string[python]\n",
      "dtype: object\n",
      "\n",
      "Dataframe: product_category_name_translation\n",
      "product_category_name            string[python]\n",
      "product_category_name_english    string[python]\n",
      "dtype: object\n",
      "\n",
      "Dataframe: orders_df\n",
      "order_id                         string[python]\n",
      "customer_id                      string[python]\n",
      "order_status                     string[python]\n",
      "order_purchase_timestamp         datetime64[ns]\n",
      "order_approved_at                datetime64[ns]\n",
      "order_delivered_carrier_date     datetime64[ns]\n",
      "order_delivered_customer_date    datetime64[ns]\n",
      "order_estimated_delivery_date    datetime64[ns]\n",
      "dtype: object\n",
      "\n",
      "Dataframe: order_items_df\n",
      "order_id               string[python]\n",
      "order_item_id                   Int64\n",
      "product_id             string[python]\n",
      "seller_id              string[python]\n",
      "shipping_limit_date    datetime64[ns]\n",
      "price                         float64\n",
      "freight_value                 float64\n",
      "dtype: object\n",
      "\n",
      "Dataframe: customers_df\n",
      "customer_id                 string[python]\n",
      "customer_unique_id          string[python]\n",
      "customer_zip_code_prefix    string[python]\n",
      "customer_city               string[python]\n",
      "customer_state              string[python]\n",
      "dtype: object\n",
      "\n",
      "Dataframe: geolocation_df\n",
      "geolocation_zip_code_prefix    string[python]\n",
      "geolocation_lat                       float64\n",
      "geolocation_lng                       float64\n",
      "geolocation_city               string[python]\n",
      "geolocation_state              string[python]\n",
      "dtype: object\n",
      "\n",
      "Dataframe: order_payments_df\n",
      "order_id                string[python]\n",
      "payment_sequential               Int64\n",
      "payment_type            string[python]\n",
      "payment_installments             Int64\n",
      "payment_value                  float64\n",
      "dtype: object\n",
      "\n",
      "Dataframe: order_reviews_df\n",
      "review_id                  string[python]\n",
      "order_id                   string[python]\n",
      "review_score                        Int64\n",
      "review_comment_title       string[python]\n",
      "review_comment_message     string[python]\n",
      "review_creation_date       datetime64[ns]\n",
      "review_answer_timestamp    datetime64[ns]\n",
      "dtype: object\n",
      "\n",
      "Dataframe: products_df\n",
      "product_id                    string[python]\n",
      "product_category_name         string[python]\n",
      "product_name_length                    Int64\n",
      "product_description_length             Int64\n",
      "product_photos_qty                     Int64\n",
      "product_weight_g                     float64\n",
      "product_length_cm                    float64\n",
      "product_height_cm                    float64\n",
      "product_width_cm                     float64\n",
      "dtype: object\n",
      "\n"
     ]
    }
   ],
   "source": [
    "# verificando tipos\n",
    "for df_name in dataframe_names:\n",
    "    print(f\"Dataframe: {df_name}\")\n",
    "    df = globals()[df_name]\n",
    "    print(df.dtypes)\n",
    "    print()"
   ]
  },
  {
   "cell_type": "markdown",
   "metadata": {},
   "source": [
    "Confirmamos que os tipos `object` foram removidos, deixando os tipos mais fáceis de entender e trabalhar."
   ]
  },
  {
   "cell_type": "markdown",
   "metadata": {},
   "source": [
    "## 1.5 - Resolvendo Duplicatas"
   ]
  },
  {
   "cell_type": "code",
   "execution_count": 64,
   "metadata": {},
   "outputs": [
    {
     "name": "stdout",
     "output_type": "stream",
     "text": [
      "sellers_df\n",
      "Pedidos duplicados: 0\n",
      "product_category_name_translation\n",
      "Pedidos duplicados: 0\n",
      "orders_df\n",
      "Pedidos duplicados: 0\n",
      "order_items_df\n",
      "Pedidos duplicados: 0\n",
      "customers_df\n",
      "Pedidos duplicados: 0\n",
      "geolocation_df\n",
      "Pedidos duplicados: 261831\n",
      "order_payments_df\n",
      "Pedidos duplicados: 0\n",
      "order_reviews_df\n",
      "Pedidos duplicados: 0\n",
      "products_df\n",
      "Pedidos duplicados: 0\n"
     ]
    }
   ],
   "source": [
    "# Verificando duplicatas\n",
    "\n",
    "for df_name in dataframe_names:\n",
    "    print(df_name)\n",
    "    df = globals()[df_name]\n",
    "    print(\"Pedidos duplicados:\", df.duplicated().sum())"
   ]
  },
  {
   "cell_type": "code",
   "execution_count": 66,
   "metadata": {},
   "outputs": [
    {
     "data": {
      "text/plain": [
       "1000163"
      ]
     },
     "execution_count": 66,
     "metadata": {},
     "output_type": "execute_result"
    }
   ],
   "source": [
    "# verificando quantidade de linhas\n",
    "geolocation_df.shape[0]"
   ]
  },
  {
   "cell_type": "code",
   "execution_count": 70,
   "metadata": {},
   "outputs": [
    {
     "data": {
      "text/html": [
       "<div>\n",
       "<style scoped>\n",
       "    .dataframe tbody tr th:only-of-type {\n",
       "        vertical-align: middle;\n",
       "    }\n",
       "\n",
       "    .dataframe tbody tr th {\n",
       "        vertical-align: top;\n",
       "    }\n",
       "\n",
       "    .dataframe thead th {\n",
       "        text-align: right;\n",
       "    }\n",
       "</style>\n",
       "<table border=\"1\" class=\"dataframe\">\n",
       "  <thead>\n",
       "    <tr style=\"text-align: right;\">\n",
       "      <th></th>\n",
       "      <th>geolocation_zip_code_prefix</th>\n",
       "      <th>geolocation_lat</th>\n",
       "      <th>geolocation_lng</th>\n",
       "      <th>geolocation_city</th>\n",
       "      <th>geolocation_state</th>\n",
       "    </tr>\n",
       "  </thead>\n",
       "  <tbody>\n",
       "    <tr>\n",
       "      <th>15</th>\n",
       "      <td>1046</td>\n",
       "      <td>-23.546081</td>\n",
       "      <td>-46.644820</td>\n",
       "      <td>sao paulo</td>\n",
       "      <td>SP</td>\n",
       "    </tr>\n",
       "    <tr>\n",
       "      <th>44</th>\n",
       "      <td>1046</td>\n",
       "      <td>-23.546081</td>\n",
       "      <td>-46.644820</td>\n",
       "      <td>sao paulo</td>\n",
       "      <td>SP</td>\n",
       "    </tr>\n",
       "    <tr>\n",
       "      <th>65</th>\n",
       "      <td>1046</td>\n",
       "      <td>-23.546081</td>\n",
       "      <td>-46.644820</td>\n",
       "      <td>sao paulo</td>\n",
       "      <td>SP</td>\n",
       "    </tr>\n",
       "    <tr>\n",
       "      <th>66</th>\n",
       "      <td>1009</td>\n",
       "      <td>-23.546935</td>\n",
       "      <td>-46.636588</td>\n",
       "      <td>sao paulo</td>\n",
       "      <td>SP</td>\n",
       "    </tr>\n",
       "    <tr>\n",
       "      <th>67</th>\n",
       "      <td>1046</td>\n",
       "      <td>-23.546081</td>\n",
       "      <td>-46.644820</td>\n",
       "      <td>sao paulo</td>\n",
       "      <td>SP</td>\n",
       "    </tr>\n",
       "    <tr>\n",
       "      <th>...</th>\n",
       "      <td>...</td>\n",
       "      <td>...</td>\n",
       "      <td>...</td>\n",
       "      <td>...</td>\n",
       "      <td>...</td>\n",
       "    </tr>\n",
       "    <tr>\n",
       "      <th>1000153</th>\n",
       "      <td>99970</td>\n",
       "      <td>-28.343273</td>\n",
       "      <td>-51.873734</td>\n",
       "      <td>ciriaco</td>\n",
       "      <td>RS</td>\n",
       "    </tr>\n",
       "    <tr>\n",
       "      <th>1000154</th>\n",
       "      <td>99950</td>\n",
       "      <td>-28.070493</td>\n",
       "      <td>-52.011342</td>\n",
       "      <td>tapejara</td>\n",
       "      <td>RS</td>\n",
       "    </tr>\n",
       "    <tr>\n",
       "      <th>1000159</th>\n",
       "      <td>99900</td>\n",
       "      <td>-27.877125</td>\n",
       "      <td>-52.224882</td>\n",
       "      <td>getulio vargas</td>\n",
       "      <td>RS</td>\n",
       "    </tr>\n",
       "    <tr>\n",
       "      <th>1000160</th>\n",
       "      <td>99950</td>\n",
       "      <td>-28.071855</td>\n",
       "      <td>-52.014716</td>\n",
       "      <td>tapejara</td>\n",
       "      <td>RS</td>\n",
       "    </tr>\n",
       "    <tr>\n",
       "      <th>1000162</th>\n",
       "      <td>99950</td>\n",
       "      <td>-28.070104</td>\n",
       "      <td>-52.018658</td>\n",
       "      <td>tapejara</td>\n",
       "      <td>RS</td>\n",
       "    </tr>\n",
       "  </tbody>\n",
       "</table>\n",
       "<p>261831 rows × 5 columns</p>\n",
       "</div>"
      ],
      "text/plain": [
       "        geolocation_zip_code_prefix  geolocation_lat  geolocation_lng  \\\n",
       "15                             1046       -23.546081       -46.644820   \n",
       "44                             1046       -23.546081       -46.644820   \n",
       "65                             1046       -23.546081       -46.644820   \n",
       "66                             1009       -23.546935       -46.636588   \n",
       "67                             1046       -23.546081       -46.644820   \n",
       "...                             ...              ...              ...   \n",
       "1000153                       99970       -28.343273       -51.873734   \n",
       "1000154                       99950       -28.070493       -52.011342   \n",
       "1000159                       99900       -27.877125       -52.224882   \n",
       "1000160                       99950       -28.071855       -52.014716   \n",
       "1000162                       99950       -28.070104       -52.018658   \n",
       "\n",
       "        geolocation_city geolocation_state  \n",
       "15             sao paulo                SP  \n",
       "44             sao paulo                SP  \n",
       "65             sao paulo                SP  \n",
       "66             sao paulo                SP  \n",
       "67             sao paulo                SP  \n",
       "...                  ...               ...  \n",
       "1000153          ciriaco                RS  \n",
       "1000154         tapejara                RS  \n",
       "1000159   getulio vargas                RS  \n",
       "1000160         tapejara                RS  \n",
       "1000162         tapejara                RS  \n",
       "\n",
       "[261831 rows x 5 columns]"
      ]
     },
     "execution_count": 70,
     "metadata": {},
     "output_type": "execute_result"
    }
   ],
   "source": [
    "# quantidade de itens duplicados\n",
    "geolocation_df[geolocation_df.duplicated()]"
   ]
  },
  {
   "cell_type": "code",
   "execution_count": 5,
   "metadata": {},
   "outputs": [
    {
     "data": {
      "text/plain": [
       "np.int64(0)"
      ]
     },
     "execution_count": 5,
     "metadata": {},
     "output_type": "execute_result"
    }
   ],
   "source": [
    "# geolocation é o único com duplicatas\n",
    "geolocation_df = geolocation_df.drop_duplicates()\n",
    "geolocation_df.duplicated().sum()"
   ]
  },
  {
   "cell_type": "code",
   "execution_count": 6,
   "metadata": {},
   "outputs": [
    {
     "name": "stdout",
     "output_type": "stream",
     "text": [
      "sellers_df\n",
      "Pedidos duplicados: 0\n",
      "product_category_name_translation\n",
      "Pedidos duplicados: 0\n",
      "orders_df\n",
      "Pedidos duplicados: 0\n",
      "order_items_df\n",
      "Pedidos duplicados: 0\n",
      "customers_df\n",
      "Pedidos duplicados: 0\n",
      "geolocation_df\n",
      "Pedidos duplicados: 0\n",
      "order_payments_df\n",
      "Pedidos duplicados: 0\n",
      "order_reviews_df\n",
      "Pedidos duplicados: 0\n",
      "products_df\n",
      "Pedidos duplicados: 0\n"
     ]
    }
   ],
   "source": [
    "# Verificando duplicatas novamente\n",
    "\n",
    "for df_name in dataframe_names:\n",
    "    print(df_name)\n",
    "    df = globals()[df_name]\n",
    "    print(\"Pedidos duplicados:\", df.duplicated().sum())"
   ]
  },
  {
   "cell_type": "code",
   "execution_count": null,
   "metadata": {
    "colab": {
     "base_uri": "https://localhost:8080/",
     "height": 443
    },
    "id": "0NCnyKGs98Dg",
    "outputId": "6b5c32ce-ccb6-4b98-b138-fd59f5347689"
   },
   "outputs": [],
   "source": [
    "nulls_in_product_name_length = products_df['product_name_length'].isnull()\n",
    "\n",
    "products_df[nulls_in_product_name_length]"
   ]
  },
  {
   "cell_type": "code",
   "execution_count": null,
   "metadata": {
    "id": "N_QvDiuzDIyx"
   },
   "outputs": [],
   "source": [
    "nulos = products_df['product_name_length'].isnull()\n",
    "\n",
    "products_df[nulls_in_product_name_length]"
   ]
  },
  {
   "cell_type": "code",
   "execution_count": 19,
   "metadata": {
    "colab": {
     "base_uri": "https://localhost:8080/",
     "height": 1000
    },
    "id": "fyMaR3uq_t75",
    "outputId": "5c7aa9f9-ae73-4bc6-bf65-c3dd9caf2940"
   },
   "outputs": [
    {
     "name": "stdout",
     "output_type": "stream",
     "text": [
      "\n",
      "DataFrame: sellers_df - Nenhum valor nulo encontrado.\n",
      "\n",
      "DataFrame: product_category_name_translation - Nenhum valor nulo encontrado.\n",
      "\n",
      "DataFrame: orders_df\n",
      "  Coluna 'order_approved_at' tem 160 valores nulos.\n",
      "  Coluna 'order_delivered_carrier_date' tem 1783 valores nulos.\n",
      "  Coluna 'order_delivered_customer_date' tem 2965 valores nulos.\n",
      "\n",
      "DataFrame: order_items_df - Nenhum valor nulo encontrado.\n",
      "\n",
      "DataFrame: customers_df - Nenhum valor nulo encontrado.\n",
      "\n",
      "DataFrame: geolocation_df - Nenhum valor nulo encontrado.\n",
      "\n",
      "DataFrame: order_payments_df - Nenhum valor nulo encontrado.\n",
      "\n",
      "DataFrame: order_reviews_df\n",
      "  Coluna 'review_comment_title' tem 87656 valores nulos.\n",
      "  Coluna 'review_comment_message' tem 58247 valores nulos.\n",
      "\n",
      "DataFrame: products_df\n",
      "  Coluna 'product_category_name' tem 610 valores nulos.\n",
      "  Coluna 'product_name_lenght' tem 610 valores nulos.\n",
      "  Coluna 'product_description_lenght' tem 610 valores nulos.\n",
      "  Coluna 'product_photos_qty' tem 610 valores nulos.\n",
      "  Coluna 'product_weight_g' tem 2 valores nulos.\n",
      "  Coluna 'product_length_cm' tem 2 valores nulos.\n",
      "  Coluna 'product_height_cm' tem 2 valores nulos.\n",
      "  Coluna 'product_width_cm' tem 2 valores nulos.\n"
     ]
    }
   ],
   "source": [
    "for df_name in dataframe_names:\n",
    "    df = globals()[df_name]\n",
    "    null_counts = df.isnull().sum()\n",
    "    null_cols = null_counts[null_counts > 0]\n",
    "    if not null_cols.empty:\n",
    "        print(f\"\\nDataFrame: {df_name}\")\n",
    "        for col, count in null_cols.items():\n",
    "            print(f\"  Coluna '{col}' tem {count} valores nulos.\")\n",
    "    else:\n",
    "        print(f\"\\nDataFrame: {df_name} - Nenhum valor nulo encontrado.\")\n"
   ]
  },
  {
   "cell_type": "code",
   "execution_count": null,
   "metadata": {
    "colab": {
     "base_uri": "https://localhost:8080/"
    },
    "id": "ggo-jdTmY9eq",
    "outputId": "94686297-83b8-4eb6-f672-3e1c5038bd60"
   },
   "outputs": [],
   "source": [
    "for df_name in dataframe_names:\n",
    "    df = globals()[df_name]\n",
    "\n",
    "    if df.duplicated().any():\n",
    "        print(f\"DataFrame '{df_name}' tem duplicatas. Removendo...\")\n",
    "        df = df.drop_duplicates()\n",
    "        globals()[df_name] = df"
   ]
  },
  {
   "cell_type": "code",
   "execution_count": null,
   "metadata": {
    "colab": {
     "base_uri": "https://localhost:8080/",
     "height": 423
    },
    "id": "U1oxYT32ZBoP",
    "outputId": "a60f2cd0-f467-4fd3-ccc3-7322046fcc17"
   },
   "outputs": [],
   "source": [
    "geolocation_df#.head(3)\n",
    "# geolocation_df.isnull().sum()"
   ]
  },
  {
   "cell_type": "code",
   "execution_count": null,
   "metadata": {
    "colab": {
     "base_uri": "https://localhost:8080/",
     "height": 163
    },
    "id": "--dERldWZHP7",
    "outputId": "dd864b90-e356-45a5-9895-28201fe86deb"
   },
   "outputs": [],
   "source": [
    "order_items_df.head(3)"
   ]
  },
  {
   "cell_type": "code",
   "execution_count": null,
   "metadata": {
    "colab": {
     "base_uri": "https://localhost:8080/",
     "height": 143
    },
    "id": "l-s4j-zGZOqR",
    "outputId": "dff3da9b-3df8-457e-9908-13426937c7bf"
   },
   "outputs": [],
   "source": [
    "order_payments_df.head(3)\n"
   ]
  },
  {
   "cell_type": "code",
   "execution_count": null,
   "metadata": {
    "colab": {
     "base_uri": "https://localhost:8080/",
     "height": 163
    },
    "id": "A0l8CSoDZh_K",
    "outputId": "c8270031-95b3-40ca-8754-a3b8cb58f2c2"
   },
   "outputs": [],
   "source": [
    "order_reviews_df.head(3)"
   ]
  },
  {
   "cell_type": "code",
   "execution_count": null,
   "metadata": {
    "colab": {
     "base_uri": "https://localhost:8080/",
     "height": 163
    },
    "id": "E937x5ZgZjkm",
    "outputId": "363ff2ef-f667-4f16-b601-995c006dc6a0"
   },
   "outputs": [],
   "source": [
    "orders_df.head(3)"
   ]
  },
  {
   "cell_type": "code",
   "execution_count": null,
   "metadata": {
    "colab": {
     "base_uri": "https://localhost:8080/",
     "height": 163
    },
    "id": "yF8qc270Zotj",
    "outputId": "1c0d7c0f-8d18-462f-bd1b-1cacff75fce0"
   },
   "outputs": [],
   "source": [
    "products_df.head(3)"
   ]
  },
  {
   "cell_type": "code",
   "execution_count": null,
   "metadata": {
    "colab": {
     "base_uri": "https://localhost:8080/",
     "height": 143
    },
    "id": "7e5JwyG6ZuQj",
    "outputId": "311260af-2077-4a86-c8fe-78b97ab20fdb"
   },
   "outputs": [],
   "source": [
    "sellers_df.head(3)"
   ]
  },
  {
   "cell_type": "code",
   "execution_count": null,
   "metadata": {
    "colab": {
     "base_uri": "https://localhost:8080/",
     "height": 206
    },
    "id": "iue5c1PNeq7e",
    "outputId": "fc3dca0f-88de-46d6-f138-e64590234555"
   },
   "outputs": [],
   "source": [
    "product_category_name_translation.head(5)"
   ]
  }
 ],
 "metadata": {
  "colab": {
   "provenance": []
  },
  "kernelspec": {
   "display_name": "Python 3 (ipykernel)",
   "language": "python",
   "name": "python3"
  },
  "language_info": {
   "codemirror_mode": {
    "name": "ipython",
    "version": 3
   },
   "file_extension": ".py",
   "mimetype": "text/x-python",
   "name": "python",
   "nbconvert_exporter": "python",
   "pygments_lexer": "ipython3",
   "version": "3.13.2"
  }
 },
 "nbformat": 4,
 "nbformat_minor": 4
}
