{
 "cells": [
  {
   "cell_type": "markdown",
   "metadata": {
    "id": "0CdLOjp5DNS9"
   },
   "source": [
    "- mudar o length de products que está errado\n",
    "- verificar as colunas de relação, que não podem ter null\n",
    "\n",
    "pip:\n",
    "- notebook\n",
    "- pandas"
   ]
  },
  {
   "cell_type": "code",
   "execution_count": null,
   "metadata": {
    "colab": {
     "base_uri": "https://localhost:8080/"
    },
    "id": "eRKG93bmWcm7",
    "outputId": "199b6264-0f1a-4d73-b44f-7e4cc67057f2"
   },
   "outputs": [],
   "source": [
    "!curl -L -o brazilian-ecommerce.zip https://www.kaggle.com/api/v1/datasets/download/olistbr/brazilian-ecommerce\n",
    "!mkdir brazilian_ecommerce\n",
    "!unzip brazilian-ecommerce.zip -d brazilian_ecommerce\n",
    "!rm brazilian-ecommerce.zip"
   ]
  },
  {
   "cell_type": "code",
   "execution_count": null,
   "metadata": {
    "colab": {
     "base_uri": "https://localhost:8080/"
    },
    "id": "ZKx5STcqgBw8",
    "outputId": "a6d4ef3f-7a67-4697-aa3f-4665c43dac1d"
   },
   "outputs": [],
   "source": [
    "!pip install pandas"
   ]
  },
  {
   "cell_type": "code",
   "execution_count": 1,
   "metadata": {
    "id": "4k1bNW-8WqYd"
   },
   "outputs": [],
   "source": [
    "# importação de bibliotecas\n",
    "\n",
    "import os\n",
    "import pandas as pd"
   ]
  },
  {
   "cell_type": "code",
   "execution_count": 2,
   "metadata": {
    "colab": {
     "base_uri": "https://localhost:8080/"
    },
    "id": "4CHFxxsdfroN",
    "outputId": "886a8a9e-2859-4a78-ae4f-8e5e8e952545"
   },
   "outputs": [
    {
     "name": "stdout",
     "output_type": "stream",
     "text": [
      "sellers_df loaded with 3095 lines.\n",
      "product_category_name_translation loaded with 71 lines.\n",
      "orders_df loaded with 99441 lines.\n",
      "order_items_df loaded with 112650 lines.\n",
      "customers_df loaded with 99441 lines.\n",
      "geolocation_df loaded with 1000163 lines.\n",
      "order_payments_df loaded with 103886 lines.\n",
      "order_reviews_df loaded with 99224 lines.\n",
      "products_df loaded with 32951 lines.\n"
     ]
    }
   ],
   "source": [
    "folder = \"brazilian_ecommerce\"\n",
    "\n",
    "# Lista todos os arquivos CSV na pasta\n",
    "csv_files = [f for f in os.listdir(folder) if f.endswith('.csv')]\n",
    "dataframe_names = []\n",
    "\n",
    "# Carrega os DataFrames dinamicamente\n",
    "for file in csv_files:\n",
    "    # Remove extensão .csv\n",
    "    base_name = file.replace('.csv', '')\n",
    "    # Remove 'olist_', troca 'dataset' por 'df'\n",
    "    df_name = base_name.replace('olist_', '').replace('dataset', 'df')\n",
    "    # Lê o CSV\n",
    "    complete_path = os.path.join(folder, file)\n",
    "    dataframe_names.append(df_name)\n",
    "    globals()[df_name] = pd.read_csv(complete_path)\n",
    "    print(f\"{df_name} loaded with {globals()[df_name].shape[0]} lines.\")"
   ]
  },
  {
   "cell_type": "code",
   "execution_count": 17,
   "metadata": {},
   "outputs": [
    {
     "name": "stdout",
     "output_type": "stream",
     "text": [
      "DataFrame: sellers_df\n"
     ]
    },
    {
     "data": {
      "text/html": [
       "<div>\n",
       "<style scoped>\n",
       "    .dataframe tbody tr th:only-of-type {\n",
       "        vertical-align: middle;\n",
       "    }\n",
       "\n",
       "    .dataframe tbody tr th {\n",
       "        vertical-align: top;\n",
       "    }\n",
       "\n",
       "    .dataframe thead th {\n",
       "        text-align: right;\n",
       "    }\n",
       "</style>\n",
       "<table border=\"1\" class=\"dataframe\">\n",
       "  <thead>\n",
       "    <tr style=\"text-align: right;\">\n",
       "      <th></th>\n",
       "      <th>seller_id</th>\n",
       "      <th>seller_zip_code_prefix</th>\n",
       "      <th>seller_city</th>\n",
       "      <th>seller_state</th>\n",
       "    </tr>\n",
       "  </thead>\n",
       "  <tbody>\n",
       "    <tr>\n",
       "      <th>0</th>\n",
       "      <td>3442f8959a84dea7ee197c632cb2df15</td>\n",
       "      <td>13023</td>\n",
       "      <td>campinas</td>\n",
       "      <td>SP</td>\n",
       "    </tr>\n",
       "    <tr>\n",
       "      <th>1</th>\n",
       "      <td>d1b65fc7debc3361ea86b5f14c68d2e2</td>\n",
       "      <td>13844</td>\n",
       "      <td>mogi guacu</td>\n",
       "      <td>SP</td>\n",
       "    </tr>\n",
       "    <tr>\n",
       "      <th>2</th>\n",
       "      <td>ce3ad9de960102d0677a81f5d0bb7b2d</td>\n",
       "      <td>20031</td>\n",
       "      <td>rio de janeiro</td>\n",
       "      <td>RJ</td>\n",
       "    </tr>\n",
       "  </tbody>\n",
       "</table>\n",
       "</div>"
      ],
      "text/plain": [
       "                          seller_id  seller_zip_code_prefix     seller_city  \\\n",
       "0  3442f8959a84dea7ee197c632cb2df15                   13023        campinas   \n",
       "1  d1b65fc7debc3361ea86b5f14c68d2e2                   13844      mogi guacu   \n",
       "2  ce3ad9de960102d0677a81f5d0bb7b2d                   20031  rio de janeiro   \n",
       "\n",
       "  seller_state  \n",
       "0           SP  \n",
       "1           SP  \n",
       "2           RJ  "
      ]
     },
     "metadata": {},
     "output_type": "display_data"
    },
    {
     "name": "stdout",
     "output_type": "stream",
     "text": [
      "\n",
      "DataFrame: product_category_name_translation\n"
     ]
    },
    {
     "data": {
      "text/html": [
       "<div>\n",
       "<style scoped>\n",
       "    .dataframe tbody tr th:only-of-type {\n",
       "        vertical-align: middle;\n",
       "    }\n",
       "\n",
       "    .dataframe tbody tr th {\n",
       "        vertical-align: top;\n",
       "    }\n",
       "\n",
       "    .dataframe thead th {\n",
       "        text-align: right;\n",
       "    }\n",
       "</style>\n",
       "<table border=\"1\" class=\"dataframe\">\n",
       "  <thead>\n",
       "    <tr style=\"text-align: right;\">\n",
       "      <th></th>\n",
       "      <th>product_category_name</th>\n",
       "      <th>product_category_name_english</th>\n",
       "    </tr>\n",
       "  </thead>\n",
       "  <tbody>\n",
       "    <tr>\n",
       "      <th>0</th>\n",
       "      <td>beleza_saude</td>\n",
       "      <td>health_beauty</td>\n",
       "    </tr>\n",
       "    <tr>\n",
       "      <th>1</th>\n",
       "      <td>informatica_acessorios</td>\n",
       "      <td>computers_accessories</td>\n",
       "    </tr>\n",
       "    <tr>\n",
       "      <th>2</th>\n",
       "      <td>automotivo</td>\n",
       "      <td>auto</td>\n",
       "    </tr>\n",
       "  </tbody>\n",
       "</table>\n",
       "</div>"
      ],
      "text/plain": [
       "    product_category_name product_category_name_english\n",
       "0            beleza_saude                 health_beauty\n",
       "1  informatica_acessorios         computers_accessories\n",
       "2              automotivo                          auto"
      ]
     },
     "metadata": {},
     "output_type": "display_data"
    },
    {
     "name": "stdout",
     "output_type": "stream",
     "text": [
      "\n",
      "DataFrame: orders_df\n"
     ]
    },
    {
     "data": {
      "text/html": [
       "<div>\n",
       "<style scoped>\n",
       "    .dataframe tbody tr th:only-of-type {\n",
       "        vertical-align: middle;\n",
       "    }\n",
       "\n",
       "    .dataframe tbody tr th {\n",
       "        vertical-align: top;\n",
       "    }\n",
       "\n",
       "    .dataframe thead th {\n",
       "        text-align: right;\n",
       "    }\n",
       "</style>\n",
       "<table border=\"1\" class=\"dataframe\">\n",
       "  <thead>\n",
       "    <tr style=\"text-align: right;\">\n",
       "      <th></th>\n",
       "      <th>order_id</th>\n",
       "      <th>customer_id</th>\n",
       "      <th>order_status</th>\n",
       "      <th>order_purchase_timestamp</th>\n",
       "      <th>order_approved_at</th>\n",
       "      <th>order_delivered_carrier_date</th>\n",
       "      <th>order_delivered_customer_date</th>\n",
       "      <th>order_estimated_delivery_date</th>\n",
       "    </tr>\n",
       "  </thead>\n",
       "  <tbody>\n",
       "    <tr>\n",
       "      <th>0</th>\n",
       "      <td>e481f51cbdc54678b7cc49136f2d6af7</td>\n",
       "      <td>9ef432eb6251297304e76186b10a928d</td>\n",
       "      <td>delivered</td>\n",
       "      <td>2017-10-02 10:56:33</td>\n",
       "      <td>2017-10-02 11:07:15</td>\n",
       "      <td>2017-10-04 19:55:00</td>\n",
       "      <td>2017-10-10 21:25:13</td>\n",
       "      <td>2017-10-18 00:00:00</td>\n",
       "    </tr>\n",
       "    <tr>\n",
       "      <th>1</th>\n",
       "      <td>53cdb2fc8bc7dce0b6741e2150273451</td>\n",
       "      <td>b0830fb4747a6c6d20dea0b8c802d7ef</td>\n",
       "      <td>delivered</td>\n",
       "      <td>2018-07-24 20:41:37</td>\n",
       "      <td>2018-07-26 03:24:27</td>\n",
       "      <td>2018-07-26 14:31:00</td>\n",
       "      <td>2018-08-07 15:27:45</td>\n",
       "      <td>2018-08-13 00:00:00</td>\n",
       "    </tr>\n",
       "    <tr>\n",
       "      <th>2</th>\n",
       "      <td>47770eb9100c2d0c44946d9cf07ec65d</td>\n",
       "      <td>41ce2a54c0b03bf3443c3d931a367089</td>\n",
       "      <td>delivered</td>\n",
       "      <td>2018-08-08 08:38:49</td>\n",
       "      <td>2018-08-08 08:55:23</td>\n",
       "      <td>2018-08-08 13:50:00</td>\n",
       "      <td>2018-08-17 18:06:29</td>\n",
       "      <td>2018-09-04 00:00:00</td>\n",
       "    </tr>\n",
       "  </tbody>\n",
       "</table>\n",
       "</div>"
      ],
      "text/plain": [
       "                           order_id                       customer_id  \\\n",
       "0  e481f51cbdc54678b7cc49136f2d6af7  9ef432eb6251297304e76186b10a928d   \n",
       "1  53cdb2fc8bc7dce0b6741e2150273451  b0830fb4747a6c6d20dea0b8c802d7ef   \n",
       "2  47770eb9100c2d0c44946d9cf07ec65d  41ce2a54c0b03bf3443c3d931a367089   \n",
       "\n",
       "  order_status order_purchase_timestamp    order_approved_at  \\\n",
       "0    delivered      2017-10-02 10:56:33  2017-10-02 11:07:15   \n",
       "1    delivered      2018-07-24 20:41:37  2018-07-26 03:24:27   \n",
       "2    delivered      2018-08-08 08:38:49  2018-08-08 08:55:23   \n",
       "\n",
       "  order_delivered_carrier_date order_delivered_customer_date  \\\n",
       "0          2017-10-04 19:55:00           2017-10-10 21:25:13   \n",
       "1          2018-07-26 14:31:00           2018-08-07 15:27:45   \n",
       "2          2018-08-08 13:50:00           2018-08-17 18:06:29   \n",
       "\n",
       "  order_estimated_delivery_date  \n",
       "0           2017-10-18 00:00:00  \n",
       "1           2018-08-13 00:00:00  \n",
       "2           2018-09-04 00:00:00  "
      ]
     },
     "metadata": {},
     "output_type": "display_data"
    },
    {
     "name": "stdout",
     "output_type": "stream",
     "text": [
      "\n",
      "DataFrame: order_items_df\n"
     ]
    },
    {
     "data": {
      "text/html": [
       "<div>\n",
       "<style scoped>\n",
       "    .dataframe tbody tr th:only-of-type {\n",
       "        vertical-align: middle;\n",
       "    }\n",
       "\n",
       "    .dataframe tbody tr th {\n",
       "        vertical-align: top;\n",
       "    }\n",
       "\n",
       "    .dataframe thead th {\n",
       "        text-align: right;\n",
       "    }\n",
       "</style>\n",
       "<table border=\"1\" class=\"dataframe\">\n",
       "  <thead>\n",
       "    <tr style=\"text-align: right;\">\n",
       "      <th></th>\n",
       "      <th>order_id</th>\n",
       "      <th>order_item_id</th>\n",
       "      <th>product_id</th>\n",
       "      <th>seller_id</th>\n",
       "      <th>shipping_limit_date</th>\n",
       "      <th>price</th>\n",
       "      <th>freight_value</th>\n",
       "    </tr>\n",
       "  </thead>\n",
       "  <tbody>\n",
       "    <tr>\n",
       "      <th>0</th>\n",
       "      <td>00010242fe8c5a6d1ba2dd792cb16214</td>\n",
       "      <td>1</td>\n",
       "      <td>4244733e06e7ecb4970a6e2683c13e61</td>\n",
       "      <td>48436dade18ac8b2bce089ec2a041202</td>\n",
       "      <td>2017-09-19 09:45:35</td>\n",
       "      <td>58.9</td>\n",
       "      <td>13.29</td>\n",
       "    </tr>\n",
       "    <tr>\n",
       "      <th>1</th>\n",
       "      <td>00018f77f2f0320c557190d7a144bdd3</td>\n",
       "      <td>1</td>\n",
       "      <td>e5f2d52b802189ee658865ca93d83a8f</td>\n",
       "      <td>dd7ddc04e1b6c2c614352b383efe2d36</td>\n",
       "      <td>2017-05-03 11:05:13</td>\n",
       "      <td>239.9</td>\n",
       "      <td>19.93</td>\n",
       "    </tr>\n",
       "    <tr>\n",
       "      <th>2</th>\n",
       "      <td>000229ec398224ef6ca0657da4fc703e</td>\n",
       "      <td>1</td>\n",
       "      <td>c777355d18b72b67abbeef9df44fd0fd</td>\n",
       "      <td>5b51032eddd242adc84c38acab88f23d</td>\n",
       "      <td>2018-01-18 14:48:30</td>\n",
       "      <td>199.0</td>\n",
       "      <td>17.87</td>\n",
       "    </tr>\n",
       "  </tbody>\n",
       "</table>\n",
       "</div>"
      ],
      "text/plain": [
       "                           order_id  order_item_id  \\\n",
       "0  00010242fe8c5a6d1ba2dd792cb16214              1   \n",
       "1  00018f77f2f0320c557190d7a144bdd3              1   \n",
       "2  000229ec398224ef6ca0657da4fc703e              1   \n",
       "\n",
       "                         product_id                         seller_id  \\\n",
       "0  4244733e06e7ecb4970a6e2683c13e61  48436dade18ac8b2bce089ec2a041202   \n",
       "1  e5f2d52b802189ee658865ca93d83a8f  dd7ddc04e1b6c2c614352b383efe2d36   \n",
       "2  c777355d18b72b67abbeef9df44fd0fd  5b51032eddd242adc84c38acab88f23d   \n",
       "\n",
       "   shipping_limit_date  price  freight_value  \n",
       "0  2017-09-19 09:45:35   58.9          13.29  \n",
       "1  2017-05-03 11:05:13  239.9          19.93  \n",
       "2  2018-01-18 14:48:30  199.0          17.87  "
      ]
     },
     "metadata": {},
     "output_type": "display_data"
    },
    {
     "name": "stdout",
     "output_type": "stream",
     "text": [
      "\n",
      "DataFrame: customers_df\n"
     ]
    },
    {
     "data": {
      "text/html": [
       "<div>\n",
       "<style scoped>\n",
       "    .dataframe tbody tr th:only-of-type {\n",
       "        vertical-align: middle;\n",
       "    }\n",
       "\n",
       "    .dataframe tbody tr th {\n",
       "        vertical-align: top;\n",
       "    }\n",
       "\n",
       "    .dataframe thead th {\n",
       "        text-align: right;\n",
       "    }\n",
       "</style>\n",
       "<table border=\"1\" class=\"dataframe\">\n",
       "  <thead>\n",
       "    <tr style=\"text-align: right;\">\n",
       "      <th></th>\n",
       "      <th>customer_id</th>\n",
       "      <th>customer_unique_id</th>\n",
       "      <th>customer_zip_code_prefix</th>\n",
       "      <th>customer_city</th>\n",
       "      <th>customer_state</th>\n",
       "    </tr>\n",
       "  </thead>\n",
       "  <tbody>\n",
       "    <tr>\n",
       "      <th>0</th>\n",
       "      <td>06b8999e2fba1a1fbc88172c00ba8bc7</td>\n",
       "      <td>861eff4711a542e4b93843c6dd7febb0</td>\n",
       "      <td>14409</td>\n",
       "      <td>franca</td>\n",
       "      <td>SP</td>\n",
       "    </tr>\n",
       "    <tr>\n",
       "      <th>1</th>\n",
       "      <td>18955e83d337fd6b2def6b18a428ac77</td>\n",
       "      <td>290c77bc529b7ac935b93aa66c333dc3</td>\n",
       "      <td>9790</td>\n",
       "      <td>sao bernardo do campo</td>\n",
       "      <td>SP</td>\n",
       "    </tr>\n",
       "    <tr>\n",
       "      <th>2</th>\n",
       "      <td>4e7b3e00288586ebd08712fdd0374a03</td>\n",
       "      <td>060e732b5b29e8181a18229c7b0b2b5e</td>\n",
       "      <td>1151</td>\n",
       "      <td>sao paulo</td>\n",
       "      <td>SP</td>\n",
       "    </tr>\n",
       "  </tbody>\n",
       "</table>\n",
       "</div>"
      ],
      "text/plain": [
       "                        customer_id                customer_unique_id  \\\n",
       "0  06b8999e2fba1a1fbc88172c00ba8bc7  861eff4711a542e4b93843c6dd7febb0   \n",
       "1  18955e83d337fd6b2def6b18a428ac77  290c77bc529b7ac935b93aa66c333dc3   \n",
       "2  4e7b3e00288586ebd08712fdd0374a03  060e732b5b29e8181a18229c7b0b2b5e   \n",
       "\n",
       "   customer_zip_code_prefix          customer_city customer_state  \n",
       "0                     14409                 franca             SP  \n",
       "1                      9790  sao bernardo do campo             SP  \n",
       "2                      1151              sao paulo             SP  "
      ]
     },
     "metadata": {},
     "output_type": "display_data"
    },
    {
     "name": "stdout",
     "output_type": "stream",
     "text": [
      "\n",
      "DataFrame: geolocation_df\n"
     ]
    },
    {
     "data": {
      "text/html": [
       "<div>\n",
       "<style scoped>\n",
       "    .dataframe tbody tr th:only-of-type {\n",
       "        vertical-align: middle;\n",
       "    }\n",
       "\n",
       "    .dataframe tbody tr th {\n",
       "        vertical-align: top;\n",
       "    }\n",
       "\n",
       "    .dataframe thead th {\n",
       "        text-align: right;\n",
       "    }\n",
       "</style>\n",
       "<table border=\"1\" class=\"dataframe\">\n",
       "  <thead>\n",
       "    <tr style=\"text-align: right;\">\n",
       "      <th></th>\n",
       "      <th>geolocation_zip_code_prefix</th>\n",
       "      <th>geolocation_lat</th>\n",
       "      <th>geolocation_lng</th>\n",
       "      <th>geolocation_city</th>\n",
       "      <th>geolocation_state</th>\n",
       "    </tr>\n",
       "  </thead>\n",
       "  <tbody>\n",
       "    <tr>\n",
       "      <th>0</th>\n",
       "      <td>1037</td>\n",
       "      <td>-23.545621</td>\n",
       "      <td>-46.639292</td>\n",
       "      <td>sao paulo</td>\n",
       "      <td>SP</td>\n",
       "    </tr>\n",
       "    <tr>\n",
       "      <th>1</th>\n",
       "      <td>1046</td>\n",
       "      <td>-23.546081</td>\n",
       "      <td>-46.644820</td>\n",
       "      <td>sao paulo</td>\n",
       "      <td>SP</td>\n",
       "    </tr>\n",
       "    <tr>\n",
       "      <th>2</th>\n",
       "      <td>1046</td>\n",
       "      <td>-23.546129</td>\n",
       "      <td>-46.642951</td>\n",
       "      <td>sao paulo</td>\n",
       "      <td>SP</td>\n",
       "    </tr>\n",
       "  </tbody>\n",
       "</table>\n",
       "</div>"
      ],
      "text/plain": [
       "   geolocation_zip_code_prefix  geolocation_lat  geolocation_lng  \\\n",
       "0                         1037       -23.545621       -46.639292   \n",
       "1                         1046       -23.546081       -46.644820   \n",
       "2                         1046       -23.546129       -46.642951   \n",
       "\n",
       "  geolocation_city geolocation_state  \n",
       "0        sao paulo                SP  \n",
       "1        sao paulo                SP  \n",
       "2        sao paulo                SP  "
      ]
     },
     "metadata": {},
     "output_type": "display_data"
    },
    {
     "name": "stdout",
     "output_type": "stream",
     "text": [
      "\n",
      "DataFrame: order_payments_df\n"
     ]
    },
    {
     "data": {
      "text/html": [
       "<div>\n",
       "<style scoped>\n",
       "    .dataframe tbody tr th:only-of-type {\n",
       "        vertical-align: middle;\n",
       "    }\n",
       "\n",
       "    .dataframe tbody tr th {\n",
       "        vertical-align: top;\n",
       "    }\n",
       "\n",
       "    .dataframe thead th {\n",
       "        text-align: right;\n",
       "    }\n",
       "</style>\n",
       "<table border=\"1\" class=\"dataframe\">\n",
       "  <thead>\n",
       "    <tr style=\"text-align: right;\">\n",
       "      <th></th>\n",
       "      <th>order_id</th>\n",
       "      <th>payment_sequential</th>\n",
       "      <th>payment_type</th>\n",
       "      <th>payment_installments</th>\n",
       "      <th>payment_value</th>\n",
       "    </tr>\n",
       "  </thead>\n",
       "  <tbody>\n",
       "    <tr>\n",
       "      <th>0</th>\n",
       "      <td>b81ef226f3fe1789b1e8b2acac839d17</td>\n",
       "      <td>1</td>\n",
       "      <td>credit_card</td>\n",
       "      <td>8</td>\n",
       "      <td>99.33</td>\n",
       "    </tr>\n",
       "    <tr>\n",
       "      <th>1</th>\n",
       "      <td>a9810da82917af2d9aefd1278f1dcfa0</td>\n",
       "      <td>1</td>\n",
       "      <td>credit_card</td>\n",
       "      <td>1</td>\n",
       "      <td>24.39</td>\n",
       "    </tr>\n",
       "    <tr>\n",
       "      <th>2</th>\n",
       "      <td>25e8ea4e93396b6fa0d3dd708e76c1bd</td>\n",
       "      <td>1</td>\n",
       "      <td>credit_card</td>\n",
       "      <td>1</td>\n",
       "      <td>65.71</td>\n",
       "    </tr>\n",
       "  </tbody>\n",
       "</table>\n",
       "</div>"
      ],
      "text/plain": [
       "                           order_id  payment_sequential payment_type  \\\n",
       "0  b81ef226f3fe1789b1e8b2acac839d17                   1  credit_card   \n",
       "1  a9810da82917af2d9aefd1278f1dcfa0                   1  credit_card   \n",
       "2  25e8ea4e93396b6fa0d3dd708e76c1bd                   1  credit_card   \n",
       "\n",
       "   payment_installments  payment_value  \n",
       "0                     8          99.33  \n",
       "1                     1          24.39  \n",
       "2                     1          65.71  "
      ]
     },
     "metadata": {},
     "output_type": "display_data"
    },
    {
     "name": "stdout",
     "output_type": "stream",
     "text": [
      "\n",
      "DataFrame: order_reviews_df\n"
     ]
    },
    {
     "data": {
      "text/html": [
       "<div>\n",
       "<style scoped>\n",
       "    .dataframe tbody tr th:only-of-type {\n",
       "        vertical-align: middle;\n",
       "    }\n",
       "\n",
       "    .dataframe tbody tr th {\n",
       "        vertical-align: top;\n",
       "    }\n",
       "\n",
       "    .dataframe thead th {\n",
       "        text-align: right;\n",
       "    }\n",
       "</style>\n",
       "<table border=\"1\" class=\"dataframe\">\n",
       "  <thead>\n",
       "    <tr style=\"text-align: right;\">\n",
       "      <th></th>\n",
       "      <th>review_id</th>\n",
       "      <th>order_id</th>\n",
       "      <th>review_score</th>\n",
       "      <th>review_comment_title</th>\n",
       "      <th>review_comment_message</th>\n",
       "      <th>review_creation_date</th>\n",
       "      <th>review_answer_timestamp</th>\n",
       "    </tr>\n",
       "  </thead>\n",
       "  <tbody>\n",
       "    <tr>\n",
       "      <th>0</th>\n",
       "      <td>7bc2406110b926393aa56f80a40eba40</td>\n",
       "      <td>73fc7af87114b39712e6da79b0a377eb</td>\n",
       "      <td>4</td>\n",
       "      <td>NaN</td>\n",
       "      <td>NaN</td>\n",
       "      <td>2018-01-18 00:00:00</td>\n",
       "      <td>2018-01-18 21:46:59</td>\n",
       "    </tr>\n",
       "    <tr>\n",
       "      <th>1</th>\n",
       "      <td>80e641a11e56f04c1ad469d5645fdfde</td>\n",
       "      <td>a548910a1c6147796b98fdf73dbeba33</td>\n",
       "      <td>5</td>\n",
       "      <td>NaN</td>\n",
       "      <td>NaN</td>\n",
       "      <td>2018-03-10 00:00:00</td>\n",
       "      <td>2018-03-11 03:05:13</td>\n",
       "    </tr>\n",
       "    <tr>\n",
       "      <th>2</th>\n",
       "      <td>228ce5500dc1d8e020d8d1322874b6f0</td>\n",
       "      <td>f9e4b658b201a9f2ecdecbb34bed034b</td>\n",
       "      <td>5</td>\n",
       "      <td>NaN</td>\n",
       "      <td>NaN</td>\n",
       "      <td>2018-02-17 00:00:00</td>\n",
       "      <td>2018-02-18 14:36:24</td>\n",
       "    </tr>\n",
       "  </tbody>\n",
       "</table>\n",
       "</div>"
      ],
      "text/plain": [
       "                          review_id                          order_id  \\\n",
       "0  7bc2406110b926393aa56f80a40eba40  73fc7af87114b39712e6da79b0a377eb   \n",
       "1  80e641a11e56f04c1ad469d5645fdfde  a548910a1c6147796b98fdf73dbeba33   \n",
       "2  228ce5500dc1d8e020d8d1322874b6f0  f9e4b658b201a9f2ecdecbb34bed034b   \n",
       "\n",
       "   review_score review_comment_title review_comment_message  \\\n",
       "0             4                  NaN                    NaN   \n",
       "1             5                  NaN                    NaN   \n",
       "2             5                  NaN                    NaN   \n",
       "\n",
       "  review_creation_date review_answer_timestamp  \n",
       "0  2018-01-18 00:00:00     2018-01-18 21:46:59  \n",
       "1  2018-03-10 00:00:00     2018-03-11 03:05:13  \n",
       "2  2018-02-17 00:00:00     2018-02-18 14:36:24  "
      ]
     },
     "metadata": {},
     "output_type": "display_data"
    },
    {
     "name": "stdout",
     "output_type": "stream",
     "text": [
      "\n",
      "DataFrame: products_df\n"
     ]
    },
    {
     "data": {
      "text/html": [
       "<div>\n",
       "<style scoped>\n",
       "    .dataframe tbody tr th:only-of-type {\n",
       "        vertical-align: middle;\n",
       "    }\n",
       "\n",
       "    .dataframe tbody tr th {\n",
       "        vertical-align: top;\n",
       "    }\n",
       "\n",
       "    .dataframe thead th {\n",
       "        text-align: right;\n",
       "    }\n",
       "</style>\n",
       "<table border=\"1\" class=\"dataframe\">\n",
       "  <thead>\n",
       "    <tr style=\"text-align: right;\">\n",
       "      <th></th>\n",
       "      <th>product_id</th>\n",
       "      <th>product_category_name</th>\n",
       "      <th>product_name_lenght</th>\n",
       "      <th>product_description_lenght</th>\n",
       "      <th>product_photos_qty</th>\n",
       "      <th>product_weight_g</th>\n",
       "      <th>product_length_cm</th>\n",
       "      <th>product_height_cm</th>\n",
       "      <th>product_width_cm</th>\n",
       "    </tr>\n",
       "  </thead>\n",
       "  <tbody>\n",
       "    <tr>\n",
       "      <th>0</th>\n",
       "      <td>1e9e8ef04dbcff4541ed26657ea517e5</td>\n",
       "      <td>perfumaria</td>\n",
       "      <td>40.0</td>\n",
       "      <td>287.0</td>\n",
       "      <td>1.0</td>\n",
       "      <td>225.0</td>\n",
       "      <td>16.0</td>\n",
       "      <td>10.0</td>\n",
       "      <td>14.0</td>\n",
       "    </tr>\n",
       "    <tr>\n",
       "      <th>1</th>\n",
       "      <td>3aa071139cb16b67ca9e5dea641aaa2f</td>\n",
       "      <td>artes</td>\n",
       "      <td>44.0</td>\n",
       "      <td>276.0</td>\n",
       "      <td>1.0</td>\n",
       "      <td>1000.0</td>\n",
       "      <td>30.0</td>\n",
       "      <td>18.0</td>\n",
       "      <td>20.0</td>\n",
       "    </tr>\n",
       "    <tr>\n",
       "      <th>2</th>\n",
       "      <td>96bd76ec8810374ed1b65e291975717f</td>\n",
       "      <td>esporte_lazer</td>\n",
       "      <td>46.0</td>\n",
       "      <td>250.0</td>\n",
       "      <td>1.0</td>\n",
       "      <td>154.0</td>\n",
       "      <td>18.0</td>\n",
       "      <td>9.0</td>\n",
       "      <td>15.0</td>\n",
       "    </tr>\n",
       "  </tbody>\n",
       "</table>\n",
       "</div>"
      ],
      "text/plain": [
       "                         product_id product_category_name  \\\n",
       "0  1e9e8ef04dbcff4541ed26657ea517e5            perfumaria   \n",
       "1  3aa071139cb16b67ca9e5dea641aaa2f                 artes   \n",
       "2  96bd76ec8810374ed1b65e291975717f         esporte_lazer   \n",
       "\n",
       "   product_name_lenght  product_description_lenght  product_photos_qty  \\\n",
       "0                 40.0                       287.0                 1.0   \n",
       "1                 44.0                       276.0                 1.0   \n",
       "2                 46.0                       250.0                 1.0   \n",
       "\n",
       "   product_weight_g  product_length_cm  product_height_cm  product_width_cm  \n",
       "0             225.0               16.0               10.0              14.0  \n",
       "1            1000.0               30.0               18.0              20.0  \n",
       "2             154.0               18.0                9.0              15.0  "
      ]
     },
     "metadata": {},
     "output_type": "display_data"
    },
    {
     "name": "stdout",
     "output_type": "stream",
     "text": [
      "\n"
     ]
    }
   ],
   "source": [
    "# analisando dataframes\n",
    "for df_name in dataframe_names:\n",
    "    print(f\"DataFrame: {df_name}\")\n",
    "    display(globals()[df_name].head(3))\n",
    "    print()"
   ]
  },
  {
   "cell_type": "markdown",
   "metadata": {},
   "source": [
    "Ao analisar o nome das colunas, é possível perceber que no dataframe **products_df** existem duas colunas com o nome errado:\n",
    "- product_name_lenght\n",
    "- product_description_lenght\n",
    "\n",
    "Como o correto é **length**, estarei corrigindo o nome."
   ]
  },
  {
   "cell_type": "markdown",
   "metadata": {},
   "source": [
    "## 🧼 Análise de Colunas com Possíveis Valores Nulos\n",
    "\n",
    "### ✅ Objetivo\n",
    "Identificar quais colunas de cada DataFrame do dataset da Olist **podem conter valores nulos**, com base no tipo da coluna e na função dela (chave primária, chave estrangeira ou campo informativo).\n",
    "\n",
    "---\n",
    "\n",
    "### 📌 Regras Gerais\n",
    "\n",
    "| Tipo de Chave        | Pode ter `null`? | Deve ser Única? |\n",
    "|----------------------|------------------|------------------|\n",
    "| **Chave Primária**   | ❌ Nunca          | ✅ Sim           |\n",
    "| **Chave Estrangeira**| ✅ Sim (às vezes) | ❌ Não           |\n",
    "\n",
    "---\n",
    "\n",
    "## 🔍 Análise Dataset por Dataset\n",
    "\n",
    "### `sellers_df`\n",
    "\n",
    "| Coluna                  | Pode ter `null`? | Justificativa                     |\n",
    "|------------------------|------------------|-----------------------------------|\n",
    "| `seller_id`            | ❌ Não            | Chave primária                    |\n",
    "| `seller_zip_code_prefix` | ❌ Não          | Localização obrigatória           |\n",
    "| `seller_city`          | ❌ Não            | Sempre presente                   |\n",
    "| `seller_state`         | ❌ Não            | Sempre presente                   |\n",
    "\n",
    "---\n",
    "\n",
    "### `product_category_name_translation`\n",
    "\n",
    "| Coluna                          | Pode ter `null`? | Justificativa                     |\n",
    "|--------------------------------|------------------|-----------------------------------|\n",
    "| `product_category_name`        | ❌ Não            | Chave primária                    |\n",
    "| `product_category_name_english`| ❌ Não            | Tradução correspondente           |\n",
    "\n",
    "---\n",
    "\n",
    "### `orders_df`\n",
    "\n",
    "| Coluna                          | Pode ter `null`? | Justificativa                         |\n",
    "|---------------------------------|------------------|---------------------------------------|\n",
    "| `order_id`                      | ❌ Não            | Chave primária                        |\n",
    "| `customer_id`                   | ❌ Não            | FK obrigatória                        |\n",
    "| `order_status`                  | ❌ Não            | Status sempre presente                |\n",
    "| `order_purchase_timestamp`      | ❌ Não            | Sempre presente                       |\n",
    "| `order_approved_at`             | ✅ Sim            | Pode não ter sido aprovado ainda      |\n",
    "| `order_delivered_carrier_date`  | ✅ Sim            | Pode não ter sido enviado             |\n",
    "| `order_delivered_customer_date` | ✅ Sim            | Pode não ter sido entregue            |\n",
    "| `order_estimated_delivery_date` | ❌ Não            | Sempre gerada                         |\n",
    "\n",
    "---\n",
    "\n",
    "### `order_items_df`\n",
    "\n",
    "| Coluna               | Pode ter `null`? | Justificativa                                    |\n",
    "|----------------------|------------------|--------------------------------------------------|\n",
    "| `order_id`           | ❌ Não            | Chave estrangeira                                |\n",
    "| `order_item_id`      | ❌ Não            | Parte da chave primária composta                 |\n",
    "| `product_id`         | ✅ Sim (raro)     | Pode haver produto não cadastrado                |\n",
    "| `seller_id`          | ❌ Não            | Sempre presente                                  |\n",
    "| `shipping_limit_date`| ❌ Não            | Data definida para envio                         |\n",
    "| `price`              | ❌ Não            | Sempre presente                                  |\n",
    "| `freight_value`      | ❌ Não            | Sempre presente                                  |\n",
    "\n",
    "---\n",
    "\n",
    "### `customers_df`\n",
    "\n",
    "| Coluna                     | Pode ter `null`? | Justificativa                  |\n",
    "|----------------------------|------------------|--------------------------------|\n",
    "| `customer_id`              | ❌ Não            | Chave primária                |\n",
    "| `customer_unique_id`       | ❌ Não            | Sempre presente               |\n",
    "| `customer_zip_code_prefix` | ❌ Não            | Localização                   |\n",
    "| `customer_city`            | ❌ Não            | Sempre presente               |\n",
    "| `customer_state`           | ❌ Não            | Sempre presente               |\n",
    "\n",
    "---\n",
    "\n",
    "### `geolocation_df`\n",
    "\n",
    "| Coluna                        | Pode ter `null`? | Justificativa                          |\n",
    "|-------------------------------|------------------|----------------------------------------|\n",
    "| `geolocation_zip_code_prefix` | ❌ Não            | Usado como referência de localização   |\n",
    "| `geolocation_lat`             | ❌ Não            | Latitude                                |\n",
    "| `geolocation_lng`             | ❌ Não            | Longitude                               |\n",
    "| `geolocation_city`            | ❌ Não            | Sempre presente                         |\n",
    "| `geolocation_state`           | ❌ Não            | Sempre presente                         |\n",
    "\n",
    "> ⚠️ Apesar de não ter chave primária formal, essa tabela não deve conter `nulls`.\n",
    "\n",
    "---\n",
    "\n",
    "### `order_payments_df`\n",
    "\n",
    "| Coluna               | Pode ter `null`? | Justificativa              |\n",
    "|----------------------|------------------|----------------------------|\n",
    "| `order_id`           | ❌ Não            | Chave estrangeira         |\n",
    "| `payment_sequential` | ❌ Não            | Parte da chave composta   |\n",
    "| `payment_type`       | ❌ Não            | Sempre presente           |\n",
    "| `payment_installments`| ❌ Não           | Sempre presente           |\n",
    "| `payment_value`      | ❌ Não            | Sempre presente           |\n",
    "\n",
    "---\n",
    "\n",
    "### `order_reviews_df`\n",
    "\n",
    "| Coluna                   | Pode ter `null`? | Justificativa                               |\n",
    "|---------------------------|------------------|---------------------------------------------|\n",
    "| `review_id`              | ❌ Não            | Chave primária                              |\n",
    "| `order_id`               | ❌ Não            | FK obrigatória                              |\n",
    "| `review_score`           | ❌ Não            | Sempre presente                             |\n",
    "| `review_comment_title`   | ✅ Sim            | Comentário opcional                         |\n",
    "| `review_comment_message` | ✅ Sim            | Comentário opcional                         |\n",
    "| `review_creation_date`   | ❌ Não            | Sempre presente                             |\n",
    "| `review_answer_timestamp`| ✅ Sim            | Pode não ter sido respondido ainda          |\n",
    "\n",
    "---\n",
    "\n",
    "### `products_df`\n",
    "\n",
    "| Coluna                         | Pode ter `null`? | Justificativa                                  |\n",
    "|--------------------------------|------------------|------------------------------------------------|\n",
    "| `product_id`                   | ❌ Não            | Chave primária                                |\n",
    "| `product_category_name`        | ✅ Sim            | Pode ser desconhecida                          |\n",
    "| `product_name_lenght`          | ✅ Sim            | Dados ausentes para alguns produtos            |\n",
    "| `product_description_lenght`   | ✅ Sim            | Idem acima                                     |\n",
    "| `product_photos_qty`           | ✅ Sim            | Idem                                           |\n",
    "| `product_weight_g`             | ✅ Sim            | Pode estar ausente                             |\n",
    "| `product_length_cm`            | ✅ Sim            | Idem                                           |\n",
    "| `product_height_cm`            | ✅ Sim            | Idem                                           |\n",
    "| `product_width_cm`             | ✅ Sim            | Idem                                           |\n",
    "\n",
    "---\n",
    "\n",
    "## ✅ Conclusão\n",
    "\n",
    "- As únicas colunas que **devem obrigatoriamente ser preenchidas** são **chaves primárias** e campos essenciais.\n",
    "- Vários campos podem conter `null`, especialmente:\n",
    "  - **Datas de aprovação/entrega** (`orders_df`)\n",
    "  - **Campos de comentário** (`order_reviews_df`)\n",
    "  - **Atributos de produto** (`products_df`)\n",
    "- Esses `nulls` devem ser **tratados com atenção** dependendo da análise (remoção, imputação, separação, etc).\n",
    "\n",
    "---\n"
   ]
  },
  {
   "cell_type": "code",
   "execution_count": 16,
   "metadata": {},
   "outputs": [
    {
     "name": "stdout",
     "output_type": "stream",
     "text": [
      "orders_df: 0 linhas removidas devido a valores nulos nas colunas obrigatórias.\n",
      "order_items_df: 0 linhas removidas devido a valores nulos nas colunas obrigatórias.\n",
      "customers_df: 0 linhas removidas devido a valores nulos nas colunas obrigatórias.\n",
      "geolocation_df: 0 linhas removidas devido a valores nulos nas colunas obrigatórias.\n",
      "order_payments_df: 0 linhas removidas devido a valores nulos nas colunas obrigatórias.\n",
      "order_reviews_df: 0 linhas removidas devido a valores nulos nas colunas obrigatórias.\n",
      "products_df: 0 linhas removidas devido a valores nulos nas colunas obrigatórias.\n",
      "sellers_df: 0 linhas removidas devido a valores nulos nas colunas obrigatórias.\n",
      "product_category_name_translation: 0 linhas removidas devido a valores nulos nas colunas obrigatórias.\n"
     ]
    }
   ],
   "source": [
    "# Dicionário com colunas que não podem ter null para cada df\n",
    "nao_pode_ter_null = {\n",
    "    'orders_df': ['order_id', 'customer_id', 'order_status', 'order_purchase_timestamp', 'order_estimated_delivery_date'],\n",
    "    'order_items_df': ['order_id', 'order_item_id', 'seller_id', 'shipping_limit_date', 'price', 'freight_value'],\n",
    "    'customers_df': ['customer_id', 'customer_unique_id', 'customer_zip_code_prefix', 'customer_city', 'customer_state'],\n",
    "    'geolocation_df': ['geolocation_zip_code_prefix', 'geolocation_lat', 'geolocation_lng', 'geolocation_city', 'geolocation_state'],\n",
    "    'order_payments_df': ['order_id', 'payment_sequential', 'payment_type', 'payment_installments', 'payment_value'],\n",
    "    'order_reviews_df': ['review_id', 'order_id', 'review_score', 'review_creation_date'],\n",
    "    'products_df': ['product_id'],\n",
    "    'sellers_df': ['seller_id', 'seller_zip_code_prefix', 'seller_city', 'seller_state'],\n",
    "    'product_category_name_translation': ['product_category_name', 'product_category_name_english']\n",
    "}\n",
    "\n",
    "# Limpeza automática\n",
    "for df_name, colunas in nao_pode_ter_null.items():\n",
    "    df = globals()[df_name]\n",
    "    antes = df.shape[0]\n",
    "    df.dropna(subset=colunas, inplace=True)\n",
    "    depois = df.shape[0]\n",
    "    print(f\"{df_name}: {antes - depois} linhas removidas devido a valores nulos nas colunas obrigatórias.\")\n"
   ]
  },
  {
   "cell_type": "code",
   "execution_count": 15,
   "metadata": {},
   "outputs": [
    {
     "name": "stdout",
     "output_type": "stream",
     "text": [
      "DataFrame: sellers_df\n"
     ]
    },
    {
     "data": {
      "text/plain": [
       "Index(['seller_id', 'seller_zip_code_prefix', 'seller_city', 'seller_state'], dtype='object')"
      ]
     },
     "metadata": {},
     "output_type": "display_data"
    },
    {
     "name": "stdout",
     "output_type": "stream",
     "text": [
      "\n",
      "DataFrame: product_category_name_translation\n"
     ]
    },
    {
     "data": {
      "text/plain": [
       "Index(['product_category_name', 'product_category_name_english'], dtype='object')"
      ]
     },
     "metadata": {},
     "output_type": "display_data"
    },
    {
     "name": "stdout",
     "output_type": "stream",
     "text": [
      "\n",
      "DataFrame: orders_df\n"
     ]
    },
    {
     "data": {
      "text/plain": [
       "Index(['order_id', 'customer_id', 'order_status', 'order_purchase_timestamp',\n",
       "       'order_approved_at', 'order_delivered_carrier_date',\n",
       "       'order_delivered_customer_date', 'order_estimated_delivery_date'],\n",
       "      dtype='object')"
      ]
     },
     "metadata": {},
     "output_type": "display_data"
    },
    {
     "name": "stdout",
     "output_type": "stream",
     "text": [
      "\n",
      "DataFrame: order_items_df\n"
     ]
    },
    {
     "data": {
      "text/plain": [
       "Index(['order_id', 'order_item_id', 'product_id', 'seller_id',\n",
       "       'shipping_limit_date', 'price', 'freight_value'],\n",
       "      dtype='object')"
      ]
     },
     "metadata": {},
     "output_type": "display_data"
    },
    {
     "name": "stdout",
     "output_type": "stream",
     "text": [
      "\n",
      "DataFrame: customers_df\n"
     ]
    },
    {
     "data": {
      "text/plain": [
       "Index(['customer_id', 'customer_unique_id', 'customer_zip_code_prefix',\n",
       "       'customer_city', 'customer_state'],\n",
       "      dtype='object')"
      ]
     },
     "metadata": {},
     "output_type": "display_data"
    },
    {
     "name": "stdout",
     "output_type": "stream",
     "text": [
      "\n",
      "DataFrame: geolocation_df\n"
     ]
    },
    {
     "data": {
      "text/plain": [
       "Index(['geolocation_zip_code_prefix', 'geolocation_lat', 'geolocation_lng',\n",
       "       'geolocation_city', 'geolocation_state'],\n",
       "      dtype='object')"
      ]
     },
     "metadata": {},
     "output_type": "display_data"
    },
    {
     "name": "stdout",
     "output_type": "stream",
     "text": [
      "\n",
      "DataFrame: order_payments_df\n"
     ]
    },
    {
     "data": {
      "text/plain": [
       "Index(['order_id', 'payment_sequential', 'payment_type',\n",
       "       'payment_installments', 'payment_value'],\n",
       "      dtype='object')"
      ]
     },
     "metadata": {},
     "output_type": "display_data"
    },
    {
     "name": "stdout",
     "output_type": "stream",
     "text": [
      "\n",
      "DataFrame: order_reviews_df\n"
     ]
    },
    {
     "data": {
      "text/plain": [
       "Index(['review_id', 'order_id', 'review_score', 'review_comment_title',\n",
       "       'review_comment_message', 'review_creation_date',\n",
       "       'review_answer_timestamp'],\n",
       "      dtype='object')"
      ]
     },
     "metadata": {},
     "output_type": "display_data"
    },
    {
     "name": "stdout",
     "output_type": "stream",
     "text": [
      "\n",
      "DataFrame: products_df\n"
     ]
    },
    {
     "data": {
      "text/plain": [
       "Index(['product_id', 'product_category_name', 'product_name_lenght',\n",
       "       'product_description_lenght', 'product_photos_qty', 'product_weight_g',\n",
       "       'product_length_cm', 'product_height_cm', 'product_width_cm'],\n",
       "      dtype='object')"
      ]
     },
     "metadata": {},
     "output_type": "display_data"
    },
    {
     "name": "stdout",
     "output_type": "stream",
     "text": [
      "\n"
     ]
    }
   ],
   "source": [
    "# analisando dataframes\n",
    "for df_name in dataframe_names:\n",
    "    print(f\"DataFrame: {df_name}\")\n",
    "    display(globals()[df_name].columns)\n",
    "    print()"
   ]
  },
  {
   "cell_type": "code",
   "execution_count": 5,
   "metadata": {
    "colab": {
     "base_uri": "https://localhost:8080/"
    },
    "id": "qzNoHlud4QG6",
    "outputId": "99e25b8a-1ae3-4bca-b6c3-8b74b93ffb59"
   },
   "outputs": [
    {
     "name": "stdout",
     "output_type": "stream",
     "text": [
      "sellers_df\n",
      "seller_id                 object\n",
      "seller_zip_code_prefix     int64\n",
      "seller_city               object\n",
      "seller_state              object\n",
      "dtype: object\n",
      "\n",
      "product_category_name_translation\n",
      "product_category_name            object\n",
      "product_category_name_english    object\n",
      "dtype: object\n",
      "\n",
      "orders_df\n",
      "order_id                         object\n",
      "customer_id                      object\n",
      "order_status                     object\n",
      "order_purchase_timestamp         object\n",
      "order_approved_at                object\n",
      "order_delivered_carrier_date     object\n",
      "order_delivered_customer_date    object\n",
      "order_estimated_delivery_date    object\n",
      "dtype: object\n",
      "\n",
      "order_items_df\n",
      "order_id                object\n",
      "order_item_id            int64\n",
      "product_id              object\n",
      "seller_id               object\n",
      "shipping_limit_date     object\n",
      "price                  float64\n",
      "freight_value          float64\n",
      "dtype: object\n",
      "\n",
      "customers_df\n",
      "customer_id                 object\n",
      "customer_unique_id          object\n",
      "customer_zip_code_prefix     int64\n",
      "customer_city               object\n",
      "customer_state              object\n",
      "dtype: object\n",
      "\n",
      "geolocation_df\n",
      "geolocation_zip_code_prefix      int64\n",
      "geolocation_lat                float64\n",
      "geolocation_lng                float64\n",
      "geolocation_city                object\n",
      "geolocation_state               object\n",
      "dtype: object\n",
      "\n",
      "order_payments_df\n",
      "order_id                 object\n",
      "payment_sequential        int64\n",
      "payment_type             object\n",
      "payment_installments      int64\n",
      "payment_value           float64\n",
      "dtype: object\n",
      "\n",
      "order_reviews_df\n",
      "review_id                  object\n",
      "order_id                   object\n",
      "review_score                int64\n",
      "review_comment_title       object\n",
      "review_comment_message     object\n",
      "review_creation_date       object\n",
      "review_answer_timestamp    object\n",
      "dtype: object\n",
      "\n",
      "products_df\n",
      "product_id                     object\n",
      "product_category_name          object\n",
      "product_name_lenght           float64\n",
      "product_description_lenght    float64\n",
      "product_photos_qty            float64\n",
      "product_weight_g              float64\n",
      "product_length_cm             float64\n",
      "product_height_cm             float64\n",
      "product_width_cm              float64\n",
      "dtype: object\n",
      "\n"
     ]
    }
   ],
   "source": [
    "# verificando tipos\n",
    "for df_name in dataframe_names:\n",
    "    print(df_name)\n",
    "    df = globals()[df_name]\n",
    "    print(df.dtypes)\n",
    "    print()"
   ]
  },
  {
   "cell_type": "code",
   "execution_count": 4,
   "metadata": {},
   "outputs": [
    {
     "name": "stdout",
     "output_type": "stream",
     "text": [
      "sellers_df\n",
      "Pedidos duplicados: 0\n",
      "product_category_name_translation\n",
      "Pedidos duplicados: 0\n",
      "orders_df\n",
      "Pedidos duplicados: 0\n",
      "order_items_df\n",
      "Pedidos duplicados: 0\n",
      "customers_df\n",
      "Pedidos duplicados: 0\n",
      "geolocation_df\n",
      "Pedidos duplicados: 261831\n",
      "order_payments_df\n",
      "Pedidos duplicados: 0\n",
      "order_reviews_df\n",
      "Pedidos duplicados: 0\n",
      "products_df\n",
      "Pedidos duplicados: 0\n"
     ]
    }
   ],
   "source": [
    "# Verificando duplicatas\n",
    "\n",
    "for df_name in dataframe_names:\n",
    "    print(df_name)\n",
    "    df = globals()[df_name]\n",
    "    print(\"Pedidos duplicados:\", df.duplicated().sum())"
   ]
  },
  {
   "cell_type": "code",
   "execution_count": 5,
   "metadata": {},
   "outputs": [
    {
     "data": {
      "text/plain": [
       "np.int64(0)"
      ]
     },
     "execution_count": 5,
     "metadata": {},
     "output_type": "execute_result"
    }
   ],
   "source": [
    "# geolocation é o único com duplicatas\n",
    "geolocation_df = geolocation_df.drop_duplicates()\n",
    "geolocation_df.duplicated().sum()"
   ]
  },
  {
   "cell_type": "code",
   "execution_count": 6,
   "metadata": {},
   "outputs": [
    {
     "name": "stdout",
     "output_type": "stream",
     "text": [
      "sellers_df\n",
      "Pedidos duplicados: 0\n",
      "product_category_name_translation\n",
      "Pedidos duplicados: 0\n",
      "orders_df\n",
      "Pedidos duplicados: 0\n",
      "order_items_df\n",
      "Pedidos duplicados: 0\n",
      "customers_df\n",
      "Pedidos duplicados: 0\n",
      "geolocation_df\n",
      "Pedidos duplicados: 0\n",
      "order_payments_df\n",
      "Pedidos duplicados: 0\n",
      "order_reviews_df\n",
      "Pedidos duplicados: 0\n",
      "products_df\n",
      "Pedidos duplicados: 0\n"
     ]
    }
   ],
   "source": [
    "# Verificando duplicatas novamente\n",
    "\n",
    "for df_name in dataframe_names:\n",
    "    print(df_name)\n",
    "    df = globals()[df_name]\n",
    "    print(\"Pedidos duplicados:\", df.duplicated().sum())"
   ]
  },
  {
   "cell_type": "code",
   "execution_count": null,
   "metadata": {
    "colab": {
     "base_uri": "https://localhost:8080/",
     "height": 390
    },
    "id": "ca56jrM-5kXM",
    "outputId": "cf96c583-7053-40ac-bada-cdf7c2964d9f"
   },
   "outputs": [],
   "source": [
    "customers_df = customers_df.astype({\n",
    "    'customer_id': 'string',\n",
    "    'customer_unique_id': 'string',\n",
    "    'customer_zip_code_prefix': 'string',  # ZIP code tratado como texto\n",
    "    'customer_city': 'string',\n",
    "    'customer_state': 'string'\n",
    "})\n",
    "\n",
    "geolocation_df = geolocation_df.astype({\n",
    "    'geolocation_zip_code_prefix': 'string',  # ZIP tratado como texto\n",
    "    'geolocation_lat': 'float64',             # Latitude\n",
    "    'geolocation_lng': 'float64',             # Longitude\n",
    "    'geolocation_city': 'string',             # Nome da cidade\n",
    "    'geolocation_state': 'string'             # Sigla do estado\n",
    "})\n",
    "\n",
    "order_items_df = order_items_df.astype({\n",
    "    'order_id': 'string',\n",
    "    'order_item_id': 'int64',\n",
    "    'product_id': 'string',\n",
    "    'seller_id': 'string',\n",
    "    'price': 'float64',\n",
    "    'freight_value': 'float64'\n",
    "})\n",
    "\n",
    "order_items_df['shipping_limit_date'] = pd.to_datetime(order_items_df['shipping_limit_date'])\n",
    "\n",
    "order_payments_df = order_payments_df.astype({\n",
    "    'order_id': 'string',\n",
    "    'payment_sequential': 'int64',\n",
    "    'payment_type': 'string',\n",
    "    'payment_installments': 'int64',\n",
    "    'payment_value': 'float64'\n",
    "})\n",
    "\n",
    "order_reviews_df = order_reviews_df.astype({\n",
    "    'review_id': 'string',\n",
    "    'order_id': 'string',\n",
    "    'review_score': 'int64',\n",
    "    'review_comment_title': 'string',\n",
    "    'review_comment_message': 'string'\n",
    "})\n",
    "\n",
    "order_reviews_df['review_creation_date'] = pd.to_datetime(order_reviews_df['review_creation_date'])\n",
    "order_reviews_df['review_answer_timestamp'] = pd.to_datetime(order_reviews_df['review_answer_timestamp'])\n",
    "\n",
    "orders_df = orders_df.astype({\n",
    "    'order_id': 'string',\n",
    "    'customer_id': 'string',\n",
    "    'order_status': 'string'\n",
    "})\n",
    "\n",
    "orders_df['order_purchase_timestamp'] = pd.to_datetime(orders_df['order_purchase_timestamp'])\n",
    "orders_df['order_approved_at'] = pd.to_datetime(orders_df['order_approved_at'])\n",
    "orders_df['order_delivered_carrier_date'] = pd.to_datetime(orders_df['order_delivered_carrier_date'])\n",
    "orders_df['order_delivered_customer_date'] = pd.to_datetime(orders_df['order_delivered_customer_date'])\n",
    "orders_df['order_estimated_delivery_date'] = pd.to_datetime(orders_df['order_estimated_delivery_date'])\n",
    "\n",
    "products_df = products_df.astype({\n",
    "    'product_id': 'string',\n",
    "    'product_category_name': 'string',\n",
    "    'product_name_lenght': 'int64',\n",
    "    'product_description_lenght': 'int64',\n",
    "    'product_photos_qty': 'int64',\n",
    "    'product_weight_g': 'float64',\n",
    "    'product_length_cm': 'float64',\n",
    "    'product_height_cm': 'float64',\n",
    "    'product_width_cm': 'float64'\n",
    "})\n",
    "\n",
    "sellers_df = sellers_df.astype({\n",
    "    'seller_id': 'string',\n",
    "    'seller_zip_code_prefix': 'string',  # Trata o prefixo do CEP como string para manter o formato correto\n",
    "    'seller_city': 'string',\n",
    "    'seller_state': 'string'\n",
    "})\n",
    "\n",
    "product_category_df = product_category_df.astype({\n",
    "    'product_category_name': 'string',\n",
    "    'product_category_name_english': 'string'\n",
    "})\n"
   ]
  },
  {
   "cell_type": "code",
   "execution_count": null,
   "metadata": {
    "colab": {
     "base_uri": "https://localhost:8080/",
     "height": 443
    },
    "id": "0NCnyKGs98Dg",
    "outputId": "6b5c32ce-ccb6-4b98-b138-fd59f5347689"
   },
   "outputs": [],
   "source": [
    "nulls_in_product_name_lenght = products_df['product_name_lenght'].isnull()\n",
    "\n",
    "products_df[nulls_in_product_name_lenght]"
   ]
  },
  {
   "cell_type": "code",
   "execution_count": null,
   "metadata": {
    "id": "N_QvDiuzDIyx"
   },
   "outputs": [],
   "source": [
    "nulos = products_df['product_name_lenght'].isnull()\n",
    "\n",
    "products_df[nulls_in_product_name_lenght]"
   ]
  },
  {
   "cell_type": "code",
   "execution_count": 19,
   "metadata": {
    "colab": {
     "base_uri": "https://localhost:8080/",
     "height": 1000
    },
    "id": "fyMaR3uq_t75",
    "outputId": "5c7aa9f9-ae73-4bc6-bf65-c3dd9caf2940"
   },
   "outputs": [
    {
     "name": "stdout",
     "output_type": "stream",
     "text": [
      "\n",
      "DataFrame: sellers_df - Nenhum valor nulo encontrado.\n",
      "\n",
      "DataFrame: product_category_name_translation - Nenhum valor nulo encontrado.\n",
      "\n",
      "DataFrame: orders_df\n",
      "  Coluna 'order_approved_at' tem 160 valores nulos.\n",
      "  Coluna 'order_delivered_carrier_date' tem 1783 valores nulos.\n",
      "  Coluna 'order_delivered_customer_date' tem 2965 valores nulos.\n",
      "\n",
      "DataFrame: order_items_df - Nenhum valor nulo encontrado.\n",
      "\n",
      "DataFrame: customers_df - Nenhum valor nulo encontrado.\n",
      "\n",
      "DataFrame: geolocation_df - Nenhum valor nulo encontrado.\n",
      "\n",
      "DataFrame: order_payments_df - Nenhum valor nulo encontrado.\n",
      "\n",
      "DataFrame: order_reviews_df\n",
      "  Coluna 'review_comment_title' tem 87656 valores nulos.\n",
      "  Coluna 'review_comment_message' tem 58247 valores nulos.\n",
      "\n",
      "DataFrame: products_df\n",
      "  Coluna 'product_category_name' tem 610 valores nulos.\n",
      "  Coluna 'product_name_lenght' tem 610 valores nulos.\n",
      "  Coluna 'product_description_lenght' tem 610 valores nulos.\n",
      "  Coluna 'product_photos_qty' tem 610 valores nulos.\n",
      "  Coluna 'product_weight_g' tem 2 valores nulos.\n",
      "  Coluna 'product_length_cm' tem 2 valores nulos.\n",
      "  Coluna 'product_height_cm' tem 2 valores nulos.\n",
      "  Coluna 'product_width_cm' tem 2 valores nulos.\n"
     ]
    }
   ],
   "source": [
    "for df_name in dataframe_names:\n",
    "    df = globals()[df_name]\n",
    "    null_counts = df.isnull().sum()\n",
    "    null_cols = null_counts[null_counts > 0]\n",
    "    if not null_cols.empty:\n",
    "        print(f\"\\nDataFrame: {df_name}\")\n",
    "        for col, count in null_cols.items():\n",
    "            print(f\"  Coluna '{col}' tem {count} valores nulos.\")\n",
    "    else:\n",
    "        print(f\"\\nDataFrame: {df_name} - Nenhum valor nulo encontrado.\")\n"
   ]
  },
  {
   "cell_type": "code",
   "execution_count": null,
   "metadata": {
    "colab": {
     "base_uri": "https://localhost:8080/"
    },
    "id": "ggo-jdTmY9eq",
    "outputId": "94686297-83b8-4eb6-f672-3e1c5038bd60"
   },
   "outputs": [],
   "source": [
    "for df_name in dataframe_names:\n",
    "    df = globals()[df_name]\n",
    "\n",
    "    if df.duplicated().any():\n",
    "        print(f\"DataFrame '{df_name}' tem duplicatas. Removendo...\")\n",
    "        df = df.drop_duplicates()\n",
    "        globals()[df_name] = df"
   ]
  },
  {
   "cell_type": "code",
   "execution_count": null,
   "metadata": {
    "colab": {
     "base_uri": "https://localhost:8080/",
     "height": 423
    },
    "id": "U1oxYT32ZBoP",
    "outputId": "a60f2cd0-f467-4fd3-ccc3-7322046fcc17"
   },
   "outputs": [],
   "source": [
    "geolocation_df#.head(3)\n",
    "# geolocation_df.isnull().sum()"
   ]
  },
  {
   "cell_type": "code",
   "execution_count": null,
   "metadata": {
    "colab": {
     "base_uri": "https://localhost:8080/",
     "height": 163
    },
    "id": "--dERldWZHP7",
    "outputId": "dd864b90-e356-45a5-9895-28201fe86deb"
   },
   "outputs": [],
   "source": [
    "order_items_df.head(3)"
   ]
  },
  {
   "cell_type": "code",
   "execution_count": null,
   "metadata": {
    "colab": {
     "base_uri": "https://localhost:8080/",
     "height": 143
    },
    "id": "l-s4j-zGZOqR",
    "outputId": "dff3da9b-3df8-457e-9908-13426937c7bf"
   },
   "outputs": [],
   "source": [
    "order_payments_df.head(3)\n"
   ]
  },
  {
   "cell_type": "code",
   "execution_count": null,
   "metadata": {
    "colab": {
     "base_uri": "https://localhost:8080/",
     "height": 163
    },
    "id": "A0l8CSoDZh_K",
    "outputId": "c8270031-95b3-40ca-8754-a3b8cb58f2c2"
   },
   "outputs": [],
   "source": [
    "order_reviews_df.head(3)"
   ]
  },
  {
   "cell_type": "code",
   "execution_count": null,
   "metadata": {
    "colab": {
     "base_uri": "https://localhost:8080/",
     "height": 163
    },
    "id": "E937x5ZgZjkm",
    "outputId": "363ff2ef-f667-4f16-b601-995c006dc6a0"
   },
   "outputs": [],
   "source": [
    "orders_df.head(3)"
   ]
  },
  {
   "cell_type": "code",
   "execution_count": null,
   "metadata": {
    "colab": {
     "base_uri": "https://localhost:8080/",
     "height": 163
    },
    "id": "yF8qc270Zotj",
    "outputId": "1c0d7c0f-8d18-462f-bd1b-1cacff75fce0"
   },
   "outputs": [],
   "source": [
    "products_df.head(3)"
   ]
  },
  {
   "cell_type": "code",
   "execution_count": null,
   "metadata": {
    "colab": {
     "base_uri": "https://localhost:8080/",
     "height": 143
    },
    "id": "7e5JwyG6ZuQj",
    "outputId": "311260af-2077-4a86-c8fe-78b97ab20fdb"
   },
   "outputs": [],
   "source": [
    "sellers_df.head(3)"
   ]
  },
  {
   "cell_type": "code",
   "execution_count": null,
   "metadata": {
    "colab": {
     "base_uri": "https://localhost:8080/",
     "height": 206
    },
    "id": "iue5c1PNeq7e",
    "outputId": "fc3dca0f-88de-46d6-f138-e64590234555"
   },
   "outputs": [],
   "source": [
    "product_category_name_translation.head(5)"
   ]
  }
 ],
 "metadata": {
  "colab": {
   "provenance": []
  },
  "kernelspec": {
   "display_name": "Python 3 (ipykernel)",
   "language": "python",
   "name": "python3"
  },
  "language_info": {
   "codemirror_mode": {
    "name": "ipython",
    "version": 3
   },
   "file_extension": ".py",
   "mimetype": "text/x-python",
   "name": "python",
   "nbconvert_exporter": "python",
   "pygments_lexer": "ipython3",
   "version": "3.13.2"
  }
 },
 "nbformat": 4,
 "nbformat_minor": 4
}
