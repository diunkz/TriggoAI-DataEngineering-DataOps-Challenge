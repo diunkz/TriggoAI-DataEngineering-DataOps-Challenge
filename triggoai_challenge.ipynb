{
 "cells": [
  {
   "cell_type": "markdown",
   "metadata": {
    "id": "0CdLOjp5DNS9"
   },
   "source": [
    "TODO\n",
    "- mudar o length de products que está errado - OK\n",
    "- verificar as colunas de relação, que não podem ter null - ok\n",
    "- Verificar os duplicados de geolocalização\n",
    "- Fazer o Dataframe principal com as relações\n",
    "\n",
    "pip:\n",
    "- notebook\n",
    "- pandas"
   ]
  },
  {
   "cell_type": "markdown",
   "metadata": {},
   "source": [
    "# 0 - Preparando o Ambiente"
   ]
  },
  {
   "cell_type": "markdown",
   "metadata": {},
   "source": [
    "## 0.1 - Download dos CSVs"
   ]
  },
  {
   "cell_type": "markdown",
   "metadata": {},
   "source": [
    "Com os comandos:\n",
    "- **curl**: conseguimos baixar o .zip do Kaggle e salvar na pasta brazilian_ecommerce;\n",
    "- **rm**: caso exista uma pasta com o nome brazilian_ecommerce, apaga ela para não atrapalhar o projeto.\n",
    "- **unzip**: extrai o .zip que foi baixado o Kaggle"
   ]
  },
  {
   "cell_type": "code",
   "execution_count": 17,
   "metadata": {
    "colab": {
     "base_uri": "https://localhost:8080/"
    },
    "id": "eRKG93bmWcm7",
    "outputId": "199b6264-0f1a-4d73-b44f-7e4cc67057f2"
   },
   "outputs": [
    {
     "name": "stdout",
     "output_type": "stream",
     "text": [
      "  % Total    % Received % Xferd  Average Speed   Time    Time     Time  Current\n",
      "                                 Dload  Upload   Total   Spent    Left  Speed\n",
      "  0     0    0     0    0     0      0      0 --:--:-- --:--:-- --:--:--     0\n",
      "100 42.6M  100 42.6M    0     0  11.1M      0  0:00:03  0:00:03 --:--:-- 16.0M\n",
      "Archive:  brazilian-ecommerce.zip\n",
      "  inflating: brazilian_ecommerce/olist_customers_dataset.csv  \n",
      "  inflating: brazilian_ecommerce/olist_geolocation_dataset.csv  \n",
      "  inflating: brazilian_ecommerce/olist_order_items_dataset.csv  \n",
      "  inflating: brazilian_ecommerce/olist_order_payments_dataset.csv  \n",
      "  inflating: brazilian_ecommerce/olist_order_reviews_dataset.csv  \n",
      "  inflating: brazilian_ecommerce/olist_orders_dataset.csv  \n",
      "  inflating: brazilian_ecommerce/olist_products_dataset.csv  \n",
      "  inflating: brazilian_ecommerce/olist_sellers_dataset.csv  \n",
      "  inflating: brazilian_ecommerce/product_category_name_translation.csv  \n"
     ]
    }
   ],
   "source": [
    "!curl -L -o brazilian-ecommerce.zip https://www.kaggle.com/api/v1/datasets/download/olistbr/brazilian-ecommerce\n",
    "!rm -rf brazilian_ecommerce\n",
    "!unzip brazilian-ecommerce.zip -d brazilian_ecommerce\n",
    "!rm brazilian-ecommerce.zip"
   ]
  },
  {
   "cell_type": "markdown",
   "metadata": {},
   "source": [
    "## 0.2 - Download das bibliotecas necessárias\n",
    "\n",
    "Usando pip para a instalação das bibliotecas necessárias no decorrer do projeto"
   ]
  },
  {
   "cell_type": "code",
   "execution_count": 16,
   "metadata": {
    "colab": {
     "base_uri": "https://localhost:8080/"
    },
    "id": "ZKx5STcqgBw8",
    "outputId": "a6d4ef3f-7a67-4697-aa3f-4665c43dac1d"
   },
   "outputs": [
    {
     "name": "stdout",
     "output_type": "stream",
     "text": [
      "Requirement already satisfied: pandas in ./.venv/lib/python3.13/site-packages (2.2.3)\n",
      "Requirement already satisfied: duckdb in ./.venv/lib/python3.13/site-packages (1.2.2)\n",
      "Collecting matplotlib\n",
      "  Downloading matplotlib-3.10.3-cp313-cp313-macosx_11_0_arm64.whl.metadata (11 kB)\n",
      "Requirement already satisfied: numpy>=1.26.0 in ./.venv/lib/python3.13/site-packages (from pandas) (2.2.5)\n",
      "Requirement already satisfied: python-dateutil>=2.8.2 in ./.venv/lib/python3.13/site-packages (from pandas) (2.9.0.post0)\n",
      "Requirement already satisfied: pytz>=2020.1 in ./.venv/lib/python3.13/site-packages (from pandas) (2025.2)\n",
      "Requirement already satisfied: tzdata>=2022.7 in ./.venv/lib/python3.13/site-packages (from pandas) (2025.2)\n",
      "Collecting contourpy>=1.0.1 (from matplotlib)\n",
      "  Downloading contourpy-1.3.2-cp313-cp313-macosx_11_0_arm64.whl.metadata (5.5 kB)\n",
      "Collecting cycler>=0.10 (from matplotlib)\n",
      "  Downloading cycler-0.12.1-py3-none-any.whl.metadata (3.8 kB)\n",
      "Collecting fonttools>=4.22.0 (from matplotlib)\n",
      "  Downloading fonttools-4.58.0-cp313-cp313-macosx_10_13_universal2.whl.metadata (104 kB)\n",
      "Collecting kiwisolver>=1.3.1 (from matplotlib)\n",
      "  Downloading kiwisolver-1.4.8-cp313-cp313-macosx_11_0_arm64.whl.metadata (6.2 kB)\n",
      "Requirement already satisfied: packaging>=20.0 in ./.venv/lib/python3.13/site-packages (from matplotlib) (25.0)\n",
      "Collecting pillow>=8 (from matplotlib)\n",
      "  Downloading pillow-11.2.1-cp313-cp313-macosx_11_0_arm64.whl.metadata (8.9 kB)\n",
      "Requirement already satisfied: pyparsing>=2.3.1 in ./.venv/lib/python3.13/site-packages (from matplotlib) (3.2.3)\n",
      "Requirement already satisfied: six>=1.5 in ./.venv/lib/python3.13/site-packages (from python-dateutil>=2.8.2->pandas) (1.17.0)\n",
      "Downloading matplotlib-3.10.3-cp313-cp313-macosx_11_0_arm64.whl (8.1 MB)\n",
      "\u001b[2K   \u001b[90m━━━━━━━━━━━━━━━━━━━━━━━━━━━━━━━━━━━━━━━━\u001b[0m \u001b[32m8.1/8.1 MB\u001b[0m \u001b[31m15.8 MB/s\u001b[0m eta \u001b[36m0:00:00\u001b[0ma \u001b[36m0:00:01\u001b[0m\n",
      "\u001b[?25hDownloading contourpy-1.3.2-cp313-cp313-macosx_11_0_arm64.whl (255 kB)\n",
      "Downloading cycler-0.12.1-py3-none-any.whl (8.3 kB)\n",
      "Downloading fonttools-4.58.0-cp313-cp313-macosx_10_13_universal2.whl (2.7 MB)\n",
      "\u001b[2K   \u001b[90m━━━━━━━━━━━━━━━━━━━━━━━━━━━━━━━━━━━━━━━━\u001b[0m \u001b[32m2.7/2.7 MB\u001b[0m \u001b[31m50.9 MB/s\u001b[0m eta \u001b[36m0:00:00\u001b[0m\n",
      "\u001b[?25hDownloading kiwisolver-1.4.8-cp313-cp313-macosx_11_0_arm64.whl (65 kB)\n",
      "Downloading pillow-11.2.1-cp313-cp313-macosx_11_0_arm64.whl (3.0 MB)\n",
      "\u001b[2K   \u001b[90m━━━━━━━━━━━━━━━━━━━━━━━━━━━━━━━━━━━━━━━━\u001b[0m \u001b[32m3.0/3.0 MB\u001b[0m \u001b[31m53.1 MB/s\u001b[0m eta \u001b[36m0:00:00\u001b[0m\n",
      "\u001b[?25hInstalling collected packages: pillow, kiwisolver, fonttools, cycler, contourpy, matplotlib\n",
      "Successfully installed contourpy-1.3.2 cycler-0.12.1 fonttools-4.58.0 kiwisolver-1.4.8 matplotlib-3.10.3 pillow-11.2.1\n",
      "\n",
      "\u001b[1m[\u001b[0m\u001b[34;49mnotice\u001b[0m\u001b[1;39;49m]\u001b[0m\u001b[39;49m A new release of pip is available: \u001b[0m\u001b[31;49m24.3.1\u001b[0m\u001b[39;49m -> \u001b[0m\u001b[32;49m25.1.1\u001b[0m\n",
      "\u001b[1m[\u001b[0m\u001b[34;49mnotice\u001b[0m\u001b[1;39;49m]\u001b[0m\u001b[39;49m To update, run: \u001b[0m\u001b[32;49mpip install --upgrade pip\u001b[0m\n"
     ]
    }
   ],
   "source": [
    "!pip install pandas duckdb matplotlib"
   ]
  },
  {
   "cell_type": "markdown",
   "metadata": {},
   "source": [
    "# 1 - Preparação dos Dados"
   ]
  },
  {
   "cell_type": "markdown",
   "metadata": {},
   "source": [
    "## 1.1 - Importações Python\n",
    "\n",
    "Importando ibliotecas necessárias para a execução completa do notebook"
   ]
  },
  {
   "cell_type": "code",
   "execution_count": 59,
   "metadata": {
    "id": "4k1bNW-8WqYd"
   },
   "outputs": [],
   "source": [
    "import os\n",
    "import pandas as pd\n",
    "import duckdb\n",
    "import matplotlib.pyplot as plt\n",
    "import calendar"
   ]
  },
  {
   "cell_type": "markdown",
   "metadata": {},
   "source": [
    "## 1.2 - Preparando os DataFrames com os dados dos CSVs"
   ]
  },
  {
   "cell_type": "code",
   "execution_count": 2,
   "metadata": {
    "colab": {
     "base_uri": "https://localhost:8080/"
    },
    "id": "4CHFxxsdfroN",
    "outputId": "886a8a9e-2859-4a78-ae4f-8e5e8e952545"
   },
   "outputs": [
    {
     "name": "stdout",
     "output_type": "stream",
     "text": [
      "sellers_df loaded with 3095 lines.\n",
      "product_category_name_translation loaded with 71 lines.\n",
      "orders_df loaded with 99441 lines.\n",
      "order_items_df loaded with 112650 lines.\n",
      "customers_df loaded with 99441 lines.\n",
      "geolocation_df loaded with 1000163 lines.\n",
      "order_payments_df loaded with 103886 lines.\n",
      "order_reviews_df loaded with 99224 lines.\n",
      "products_df loaded with 32951 lines.\n"
     ]
    }
   ],
   "source": [
    "# Diretório que foi criado na etapa de preparação do ambiente \n",
    "folder = \"brazilian_ecommerce\"\n",
    "\n",
    "# Lista todos os arquivos CSV na pasta\n",
    "csv_files = [f for f in os.listdir(folder) if f.endswith('.csv')]\n",
    "dataframe_names = []\n",
    "\n",
    "# Carrega os DataFrames dinamicamente\n",
    "for file in csv_files:\n",
    "    # Remove extensão .csv\n",
    "    base_name = file.replace('.csv', '')\n",
    "    # Remove 'olist_', troca 'dataset' por 'df'\n",
    "    df_name = base_name.replace('olist_', '').replace('dataset', 'df')\n",
    "    # Lê o CSV\n",
    "    complete_path = os.path.join(folder, file)\n",
    "    dataframe_names.append(df_name)\n",
    "    # Salva em variáveis globais, reaproveitando o nome do arquivo que foi modificado\n",
    "    globals()[df_name] = pd.read_csv(complete_path)\n",
    "    print(f\"{df_name} loaded with {globals()[df_name].shape[0]} lines.\")"
   ]
  },
  {
   "cell_type": "markdown",
   "metadata": {},
   "source": [
    "## 1.3 - Analisando Dataframes"
   ]
  },
  {
   "cell_type": "code",
   "execution_count": 5,
   "metadata": {},
   "outputs": [
    {
     "name": "stdout",
     "output_type": "stream",
     "text": [
      "DataFrame: sellers_df\n",
      "<class 'pandas.core.frame.DataFrame'>\n",
      "RangeIndex: 3095 entries, 0 to 3094\n",
      "Data columns (total 4 columns):\n",
      " #   Column                  Non-Null Count  Dtype \n",
      "---  ------                  --------------  ----- \n",
      " 0   seller_id               3095 non-null   object\n",
      " 1   seller_zip_code_prefix  3095 non-null   int64 \n",
      " 2   seller_city             3095 non-null   object\n",
      " 3   seller_state            3095 non-null   object\n",
      "dtypes: int64(1), object(3)\n",
      "memory usage: 96.8+ KB\n",
      "None\n",
      "\n",
      "-------------------------------------------------\n",
      "\n",
      "DataFrame: product_category_name_translation\n",
      "<class 'pandas.core.frame.DataFrame'>\n",
      "RangeIndex: 71 entries, 0 to 70\n",
      "Data columns (total 2 columns):\n",
      " #   Column                         Non-Null Count  Dtype \n",
      "---  ------                         --------------  ----- \n",
      " 0   product_category_name          71 non-null     object\n",
      " 1   product_category_name_english  71 non-null     object\n",
      "dtypes: object(2)\n",
      "memory usage: 1.2+ KB\n",
      "None\n",
      "\n",
      "-------------------------------------------------\n",
      "\n",
      "DataFrame: orders_df\n",
      "<class 'pandas.core.frame.DataFrame'>\n",
      "RangeIndex: 99441 entries, 0 to 99440\n",
      "Data columns (total 8 columns):\n",
      " #   Column                         Non-Null Count  Dtype \n",
      "---  ------                         --------------  ----- \n",
      " 0   order_id                       99441 non-null  object\n",
      " 1   customer_id                    99441 non-null  object\n",
      " 2   order_status                   99441 non-null  object\n",
      " 3   order_purchase_timestamp       99441 non-null  object\n",
      " 4   order_approved_at              99281 non-null  object\n",
      " 5   order_delivered_carrier_date   97658 non-null  object\n",
      " 6   order_delivered_customer_date  96476 non-null  object\n",
      " 7   order_estimated_delivery_date  99441 non-null  object\n",
      "dtypes: object(8)\n",
      "memory usage: 6.1+ MB\n",
      "None\n",
      "\n",
      "-------------------------------------------------\n",
      "\n",
      "DataFrame: order_items_df\n",
      "<class 'pandas.core.frame.DataFrame'>\n",
      "RangeIndex: 112650 entries, 0 to 112649\n",
      "Data columns (total 7 columns):\n",
      " #   Column               Non-Null Count   Dtype  \n",
      "---  ------               --------------   -----  \n",
      " 0   order_id             112650 non-null  object \n",
      " 1   order_item_id        112650 non-null  int64  \n",
      " 2   product_id           112650 non-null  object \n",
      " 3   seller_id            112650 non-null  object \n",
      " 4   shipping_limit_date  112650 non-null  object \n",
      " 5   price                112650 non-null  float64\n",
      " 6   freight_value        112650 non-null  float64\n",
      "dtypes: float64(2), int64(1), object(4)\n",
      "memory usage: 6.0+ MB\n",
      "None\n",
      "\n",
      "-------------------------------------------------\n",
      "\n",
      "DataFrame: customers_df\n",
      "<class 'pandas.core.frame.DataFrame'>\n",
      "RangeIndex: 99441 entries, 0 to 99440\n",
      "Data columns (total 5 columns):\n",
      " #   Column                    Non-Null Count  Dtype \n",
      "---  ------                    --------------  ----- \n",
      " 0   customer_id               99441 non-null  object\n",
      " 1   customer_unique_id        99441 non-null  object\n",
      " 2   customer_zip_code_prefix  99441 non-null  int64 \n",
      " 3   customer_city             99441 non-null  object\n",
      " 4   customer_state            99441 non-null  object\n",
      "dtypes: int64(1), object(4)\n",
      "memory usage: 3.8+ MB\n",
      "None\n",
      "\n",
      "-------------------------------------------------\n",
      "\n",
      "DataFrame: geolocation_df\n",
      "<class 'pandas.core.frame.DataFrame'>\n",
      "RangeIndex: 1000163 entries, 0 to 1000162\n",
      "Data columns (total 5 columns):\n",
      " #   Column                       Non-Null Count    Dtype  \n",
      "---  ------                       --------------    -----  \n",
      " 0   geolocation_zip_code_prefix  1000163 non-null  int64  \n",
      " 1   geolocation_lat              1000163 non-null  float64\n",
      " 2   geolocation_lng              1000163 non-null  float64\n",
      " 3   geolocation_city             1000163 non-null  object \n",
      " 4   geolocation_state            1000163 non-null  object \n",
      "dtypes: float64(2), int64(1), object(2)\n",
      "memory usage: 38.2+ MB\n",
      "None\n",
      "\n",
      "-------------------------------------------------\n",
      "\n",
      "DataFrame: order_payments_df\n",
      "<class 'pandas.core.frame.DataFrame'>\n",
      "RangeIndex: 103886 entries, 0 to 103885\n",
      "Data columns (total 5 columns):\n",
      " #   Column                Non-Null Count   Dtype  \n",
      "---  ------                --------------   -----  \n",
      " 0   order_id              103886 non-null  object \n",
      " 1   payment_sequential    103886 non-null  int64  \n",
      " 2   payment_type          103886 non-null  object \n",
      " 3   payment_installments  103886 non-null  int64  \n",
      " 4   payment_value         103886 non-null  float64\n",
      "dtypes: float64(1), int64(2), object(2)\n",
      "memory usage: 4.0+ MB\n",
      "None\n",
      "\n",
      "-------------------------------------------------\n",
      "\n",
      "DataFrame: order_reviews_df\n",
      "<class 'pandas.core.frame.DataFrame'>\n",
      "RangeIndex: 99224 entries, 0 to 99223\n",
      "Data columns (total 7 columns):\n",
      " #   Column                   Non-Null Count  Dtype \n",
      "---  ------                   --------------  ----- \n",
      " 0   review_id                99224 non-null  object\n",
      " 1   order_id                 99224 non-null  object\n",
      " 2   review_score             99224 non-null  int64 \n",
      " 3   review_comment_title     11568 non-null  object\n",
      " 4   review_comment_message   40977 non-null  object\n",
      " 5   review_creation_date     99224 non-null  object\n",
      " 6   review_answer_timestamp  99224 non-null  object\n",
      "dtypes: int64(1), object(6)\n",
      "memory usage: 5.3+ MB\n",
      "None\n",
      "\n",
      "-------------------------------------------------\n",
      "\n",
      "DataFrame: products_df\n",
      "<class 'pandas.core.frame.DataFrame'>\n",
      "RangeIndex: 32951 entries, 0 to 32950\n",
      "Data columns (total 9 columns):\n",
      " #   Column                      Non-Null Count  Dtype  \n",
      "---  ------                      --------------  -----  \n",
      " 0   product_id                  32951 non-null  object \n",
      " 1   product_category_name       32341 non-null  object \n",
      " 2   product_name_lenght         32341 non-null  float64\n",
      " 3   product_description_lenght  32341 non-null  float64\n",
      " 4   product_photos_qty          32341 non-null  float64\n",
      " 5   product_weight_g            32949 non-null  float64\n",
      " 6   product_length_cm           32949 non-null  float64\n",
      " 7   product_height_cm           32949 non-null  float64\n",
      " 8   product_width_cm            32949 non-null  float64\n",
      "dtypes: float64(7), object(2)\n",
      "memory usage: 2.3+ MB\n",
      "None\n",
      "\n",
      "-------------------------------------------------\n",
      "\n"
     ]
    }
   ],
   "source": [
    "for df_name in dataframe_names:\n",
    "    print(f\"DataFrame: {df_name}\")\n",
    "    # display(globals()[df_name].head(3))\n",
    "    print(globals()[df_name].info())\n",
    "    # print(globals()[df_name].columns)\n",
    "\n",
    "    # criando um separador entre os dados visualizados\n",
    "    print()\n",
    "    print('-'*49)\n",
    "    print()"
   ]
  },
  {
   "cell_type": "markdown",
   "metadata": {},
   "source": [
    "Com o **.info()**, podemos verificar características como:\n",
    "- quantidade de colunas;\n",
    "- nome das colunas;\n",
    "- tipo da coluna;\n",
    "- também contador de dados não nulos."
   ]
  },
  {
   "cell_type": "markdown",
   "metadata": {},
   "source": [
    "Ao analisar o nome das colunas, é possível perceber que no dataframe **products_df** existem duas colunas com o nome errado:\n",
    "- product_name_lenght\n",
    "- product_description_lenght\n",
    "\n",
    "Como o correto é **length**, estarei corrigindo o nome:"
   ]
  },
  {
   "cell_type": "code",
   "execution_count": 3,
   "metadata": {},
   "outputs": [
    {
     "data": {
      "text/plain": [
       "Index(['product_id', 'product_category_name', 'product_name_length',\n",
       "       'product_description_length', 'product_photos_qty', 'product_weight_g',\n",
       "       'product_length_cm', 'product_height_cm', 'product_width_cm'],\n",
       "      dtype='object')"
      ]
     },
     "execution_count": 3,
     "metadata": {},
     "output_type": "execute_result"
    }
   ],
   "source": [
    "products_df.rename(columns={\n",
    "    'product_name_lenght': 'product_name_length',\n",
    "    'product_description_lenght': 'product_description_length'\n",
    "}, inplace=True)\n",
    "\n",
    "products_df.columns"
   ]
  },
  {
   "cell_type": "markdown",
   "metadata": {},
   "source": [
    "Corrigindo o nome nas colunas, passamos para o próximo passo: as informações **RangeIndex** e **Non-Null Count** dada pelo **info()**. \n",
    "Com o **RangeIndex**, observamos o número de linhas de cada coluna. Se o **Non-Null Count** não é igual, significa que alguns valores são nulos. Por isso, é necessária uma análise para saber o que pode ser nulo e o que não pode."
   ]
  },
  {
   "cell_type": "markdown",
   "metadata": {},
   "source": [
    "### 🧼 Análise de Colunas com Possíveis Valores Nulos"
   ]
  },
  {
   "cell_type": "markdown",
   "metadata": {
    "jp-MarkdownHeadingCollapsed": true
   },
   "source": [
    "#### ✅ Objetivo\n",
    "Identificar quais colunas de cada DataFrame **podem conter valores nulos**, com base no tipo da coluna e na função dela (chave primária, chave estrangeira ou campo informativo)."
   ]
  },
  {
   "cell_type": "markdown",
   "metadata": {
    "jp-MarkdownHeadingCollapsed": true
   },
   "source": [
    "#### 📌 Regras Gerais\n",
    "\n",
    "| Tipo de Chave        | Pode ter `null`? | Deve ser Única? |\n",
    "|----------------------|------------------|------------------|\n",
    "| **Chave Primária**   | ❌ Nunca          | ✅ Sim           |\n",
    "| **Chave Estrangeira**| ✅ Sim (às vezes) | ❌ Não           |"
   ]
  },
  {
   "cell_type": "markdown",
   "metadata": {},
   "source": [
    "#### 🔍 Análise DataFrame por DataFrame"
   ]
  },
  {
   "cell_type": "markdown",
   "metadata": {},
   "source": [
    "`sellers_df`\n",
    "\n",
    "| Coluna                  | Pode ter `null`? | Justificativa                     |\n",
    "|------------------------|------------------|-----------------------------------|\n",
    "| `seller_id`            | ❌ Não            | Chave primária                    |\n",
    "| `seller_zip_code_prefix` | ❌ Não          | Localização obrigatória           |\n",
    "| `seller_city`          | ❌ Não            | Sempre presente                   |\n",
    "| `seller_state`         | ❌ Não            | Sempre presente                   |"
   ]
  },
  {
   "cell_type": "markdown",
   "metadata": {},
   "source": [
    "`product_category_name_translation`\n",
    "\n",
    "| Coluna                          | Pode ter `null`? | Justificativa                     |\n",
    "|--------------------------------|------------------|-----------------------------------|\n",
    "| `product_category_name`        | ❌ Não            | Chave primária                    |\n",
    "| `product_category_name_english`| ❌ Não            | Tradução correspondente           |"
   ]
  },
  {
   "cell_type": "markdown",
   "metadata": {},
   "source": [
    "`orders_df`\n",
    "\n",
    "| Coluna                          | Pode ter `null`? | Justificativa                         |\n",
    "|---------------------------------|------------------|---------------------------------------|\n",
    "| `order_id`                      | ❌ Não            | Chave primária                        |\n",
    "| `customer_id`                   | ❌ Não            | FK obrigatória                        |\n",
    "| `order_status`                  | ❌ Não            | Status sempre presente                |\n",
    "| `order_purchase_timestamp`      | ❌ Não            | Sempre presente                       |\n",
    "| `order_approved_at`             | ✅ Sim            | Pode não ter sido aprovado ainda      |\n",
    "| `order_delivered_carrier_date`  | ✅ Sim            | Pode não ter sido enviado             |\n",
    "| `order_delivered_customer_date` | ✅ Sim            | Pode não ter sido entregue            |\n",
    "| `order_estimated_delivery_date` | ❌ Não            | Sempre gerada                         |"
   ]
  },
  {
   "cell_type": "markdown",
   "metadata": {},
   "source": [
    "`order_items_df`\n",
    "\n",
    "| Coluna               | Pode ter `null`? | Justificativa                                    |\n",
    "|----------------------|------------------|--------------------------------------------------|\n",
    "| `order_id`           | ❌ Não            | Chave estrangeira                                |\n",
    "| `order_item_id`      | ❌ Não            | Parte da chave primária composta                 |\n",
    "| `product_id`         | ✅ Sim (raro)     | Pode haver produto não cadastrado                |\n",
    "| `seller_id`          | ❌ Não            | Sempre presente                                  |\n",
    "| `shipping_limit_date`| ❌ Não            | Data definida para envio                         |\n",
    "| `price`              | ❌ Não            | Sempre presente                                  |\n",
    "| `freight_value`      | ❌ Não            | Sempre presente                                  |"
   ]
  },
  {
   "cell_type": "markdown",
   "metadata": {},
   "source": [
    "`customers_df`\n",
    "\n",
    "| Coluna                     | Pode ter `null`? | Justificativa                  |\n",
    "|----------------------------|------------------|--------------------------------|\n",
    "| `customer_id`              | ❌ Não            | Chave primária                |\n",
    "| `customer_unique_id`       | ❌ Não            | Sempre presente               |\n",
    "| `customer_zip_code_prefix` | ❌ Não            | Localização                   |\n",
    "| `customer_city`            | ❌ Não            | Sempre presente               |\n",
    "| `customer_state`           | ❌ Não            | Sempre presente               |"
   ]
  },
  {
   "cell_type": "markdown",
   "metadata": {},
   "source": [
    "`geolocation_df`\n",
    "\n",
    "| Coluna                        | Pode ter `null`? | Justificativa                          |\n",
    "|-------------------------------|------------------|----------------------------------------|\n",
    "| `geolocation_zip_code_prefix` | ❌ Não            | Usado como referência de localização   |\n",
    "| `geolocation_lat`             | ❌ Não            | Latitude                                |\n",
    "| `geolocation_lng`             | ❌ Não            | Longitude                               |\n",
    "| `geolocation_city`            | ❌ Não            | Sempre presente                         |\n",
    "| `geolocation_state`           | ❌ Não            | Sempre presente                         |\n",
    "\n",
    "> ⚠️ Apesar de não ter chave primária formal, essa tabela não deve conter valores nulos."
   ]
  },
  {
   "cell_type": "markdown",
   "metadata": {},
   "source": [
    "`order_payments_df`\n",
    "\n",
    "| Coluna               | Pode ter `null`? | Justificativa              |\n",
    "|----------------------|------------------|----------------------------|\n",
    "| `order_id`           | ❌ Não            | Chave estrangeira         |\n",
    "| `payment_sequential` | ❌ Não            | Parte da chave composta   |\n",
    "| `payment_type`       | ❌ Não            | Sempre presente           |\n",
    "| `payment_installments`| ❌ Não           | Sempre presente           |\n",
    "| `payment_value`      | ❌ Não            | Sempre presente           |"
   ]
  },
  {
   "cell_type": "markdown",
   "metadata": {},
   "source": [
    "`order_reviews_df`\n",
    "\n",
    "| Coluna                   | Pode ter `null`? | Justificativa                               |\n",
    "|---------------------------|------------------|---------------------------------------------|\n",
    "| `review_id`              | ❌ Não            | Chave primária                              |\n",
    "| `order_id`               | ❌ Não            | FK obrigatória                              |\n",
    "| `review_score`           | ❌ Não            | Sempre presente                             |\n",
    "| `review_comment_title`   | ✅ Sim            | Comentário opcional                         |\n",
    "| `review_comment_message` | ✅ Sim            | Comentário opcional                         |\n",
    "| `review_creation_date`   | ❌ Não            | Sempre presente                             |\n",
    "| `review_answer_timestamp`| ✅ Sim            | Pode não ter sido respondido ainda          |"
   ]
  },
  {
   "cell_type": "markdown",
   "metadata": {},
   "source": [
    "`products_df`\n",
    "\n",
    "| Coluna                         | Pode ter `null`? | Justificativa                                  |\n",
    "|--------------------------------|------------------|------------------------------------------------|\n",
    "| `product_id`                   | ❌ Não            | Chave primária                                |\n",
    "| `product_category_name`        | ✅ Sim            | Pode ser desconhecida                          |\n",
    "| `product_name_length`          | ✅ Sim            | Dados ausentes para alguns produtos            |\n",
    "| `product_description_length`   | ✅ Sim            | Idem acima                                     |\n",
    "| `product_photos_qty`           | ✅ Sim            | Idem                                           |\n",
    "| `product_weight_g`             | ✅ Sim            | Pode estar ausente                             |\n",
    "| `product_length_cm`            | ✅ Sim            | Idem                                           |\n",
    "| `product_height_cm`            | ✅ Sim            | Idem                                           |\n",
    "| `product_width_cm`             | ✅ Sim            | Idem                                           |"
   ]
  },
  {
   "cell_type": "markdown",
   "metadata": {},
   "source": [
    "Ao verificar cada coluna utilizando **info()**, confirmamos que:\n",
    "\n",
    "`sellers_df`, `product_category_name_translation`, `order_items_df`, `customers_df`, `geolocation_df`, `order_payments_df` não possuem valores nulos.\n",
    "\n",
    "`orders_df` possui colunas com valores nulos:\n",
    "\n",
    "> `order_approved_at`, `order_delivered_carrier_date`, `order_delivered_customer_date`, mas essas colunas podem conter valores nulos\n",
    "\n",
    "`orders_reviews_df` possui colunas com valores nulos:\n",
    "\n",
    "> `review_comment_title`, `review_comment_message`, mas essas colunas podem conter valores nulos\n",
    "\n",
    "`products_df` possui colunas com valores nulos:\n",
    "\n",
    "> `product_category_name`, `product_name_length`, `product_description_length`, `product_photos_qty`, `product_weight_g`, `product_length_cm`, `product_height_cm`, `product_width_cm`, mas essas colunas podem conter valores nulos"
   ]
  },
  {
   "cell_type": "markdown",
   "metadata": {},
   "source": [
    "Para confirmar os dados acima, o código abaixo vai remover todos os valores nulos para cada coluna (em cada DataFrame) que não pode ter valores nulos."
   ]
  },
  {
   "cell_type": "code",
   "execution_count": 4,
   "metadata": {},
   "outputs": [
    {
     "name": "stdout",
     "output_type": "stream",
     "text": [
      "orders_df: 0 linhas removidas devido a valores nulos nas colunas obrigatórias.\n",
      "order_items_df: 0 linhas removidas devido a valores nulos nas colunas obrigatórias.\n",
      "customers_df: 0 linhas removidas devido a valores nulos nas colunas obrigatórias.\n",
      "geolocation_df: 0 linhas removidas devido a valores nulos nas colunas obrigatórias.\n",
      "order_payments_df: 0 linhas removidas devido a valores nulos nas colunas obrigatórias.\n",
      "order_reviews_df: 0 linhas removidas devido a valores nulos nas colunas obrigatórias.\n",
      "products_df: 0 linhas removidas devido a valores nulos nas colunas obrigatórias.\n",
      "sellers_df: 0 linhas removidas devido a valores nulos nas colunas obrigatórias.\n",
      "product_category_name_translation: 0 linhas removidas devido a valores nulos nas colunas obrigatórias.\n"
     ]
    }
   ],
   "source": [
    "# Dicionário com colunas que não podem ter null para cada df\n",
    "nao_pode_ter_null = {\n",
    "    'orders_df': ['order_id', 'customer_id', 'order_status', 'order_purchase_timestamp', 'order_estimated_delivery_date'],\n",
    "    'order_items_df': ['order_id', 'order_item_id', 'seller_id', 'shipping_limit_date', 'price', 'freight_value'],\n",
    "    'customers_df': ['customer_id', 'customer_unique_id', 'customer_zip_code_prefix', 'customer_city', 'customer_state'],\n",
    "    'geolocation_df': ['geolocation_zip_code_prefix', 'geolocation_lat', 'geolocation_lng', 'geolocation_city', 'geolocation_state'],\n",
    "    'order_payments_df': ['order_id', 'payment_sequential', 'payment_type', 'payment_installments', 'payment_value'],\n",
    "    'order_reviews_df': ['review_id', 'order_id', 'review_score', 'review_creation_date'],\n",
    "    'products_df': ['product_id'],\n",
    "    'sellers_df': ['seller_id', 'seller_zip_code_prefix', 'seller_city', 'seller_state'],\n",
    "    'product_category_name_translation': ['product_category_name', 'product_category_name_english']\n",
    "}\n",
    "\n",
    "# Limpeza automática\n",
    "for df_name, colunas in nao_pode_ter_null.items():\n",
    "    df = globals()[df_name]\n",
    "    antes = df.shape[0]\n",
    "    df.dropna(subset=colunas, inplace=True)\n",
    "    depois = df.shape[0]\n",
    "    print(f\"{df_name}: {antes - depois} linhas removidas devido a valores nulos nas colunas obrigatórias.\")\n"
   ]
  },
  {
   "cell_type": "markdown",
   "metadata": {},
   "source": [
    "Pela saída percebemos que nenhuma linha foi removida. Mostrando que a verificação feita em utililizando **info()** faz sentido."
   ]
  },
  {
   "cell_type": "markdown",
   "metadata": {},
   "source": [
    "## 1.4 - Modificando Tipos"
   ]
  },
  {
   "cell_type": "markdown",
   "metadata": {},
   "source": [
    "Agora, precisamos resolver o problema de tipagem. Ao observar os dados utilizando **info()**, percebemos que diversas colunas estão com tipo object, principalmente datas.\n",
    "Vamos verificar novamente os tipos das colunas de cada DataFrame:"
   ]
  },
  {
   "cell_type": "code",
   "execution_count": 24,
   "metadata": {
    "colab": {
     "base_uri": "https://localhost:8080/"
    },
    "id": "qzNoHlud4QG6",
    "outputId": "99e25b8a-1ae3-4bca-b6c3-8b74b93ffb59",
    "scrolled": true
   },
   "outputs": [
    {
     "name": "stdout",
     "output_type": "stream",
     "text": [
      "Dataframe: sellers_df\n",
      "seller_id                 object\n",
      "seller_zip_code_prefix     int64\n",
      "seller_city               object\n",
      "seller_state              object\n",
      "dtype: object\n",
      "\n",
      "Dataframe: product_category_name_translation\n",
      "product_category_name            object\n",
      "product_category_name_english    object\n",
      "dtype: object\n",
      "\n",
      "Dataframe: orders_df\n",
      "order_id                         object\n",
      "customer_id                      object\n",
      "order_status                     object\n",
      "order_purchase_timestamp         object\n",
      "order_approved_at                object\n",
      "order_delivered_carrier_date     object\n",
      "order_delivered_customer_date    object\n",
      "order_estimated_delivery_date    object\n",
      "dtype: object\n",
      "\n",
      "Dataframe: order_items_df\n",
      "order_id                object\n",
      "order_item_id            int64\n",
      "product_id              object\n",
      "seller_id               object\n",
      "shipping_limit_date     object\n",
      "price                  float64\n",
      "freight_value          float64\n",
      "dtype: object\n",
      "\n",
      "Dataframe: customers_df\n",
      "customer_id                 object\n",
      "customer_unique_id          object\n",
      "customer_zip_code_prefix     int64\n",
      "customer_city               object\n",
      "customer_state              object\n",
      "dtype: object\n",
      "\n",
      "Dataframe: geolocation_df\n",
      "geolocation_zip_code_prefix      int64\n",
      "geolocation_lat                float64\n",
      "geolocation_lng                float64\n",
      "geolocation_city                object\n",
      "geolocation_state               object\n",
      "dtype: object\n",
      "\n",
      "Dataframe: order_payments_df\n",
      "order_id                 object\n",
      "payment_sequential        int64\n",
      "payment_type             object\n",
      "payment_installments      int64\n",
      "payment_value           float64\n",
      "dtype: object\n",
      "\n",
      "Dataframe: order_reviews_df\n",
      "review_id                  object\n",
      "order_id                   object\n",
      "review_score                int64\n",
      "review_comment_title       object\n",
      "review_comment_message     object\n",
      "review_creation_date       object\n",
      "review_answer_timestamp    object\n",
      "dtype: object\n",
      "\n",
      "Dataframe: products_df\n",
      "product_id                     object\n",
      "product_category_name          object\n",
      "product_name_length           float64\n",
      "product_description_length    float64\n",
      "product_photos_qty            float64\n",
      "product_weight_g              float64\n",
      "product_length_cm             float64\n",
      "product_height_cm             float64\n",
      "product_width_cm              float64\n",
      "dtype: object\n",
      "\n"
     ]
    }
   ],
   "source": [
    "# verificando tipos\n",
    "for df_name in dataframe_names:\n",
    "    print(f\"Dataframe: {df_name}\")\n",
    "    df = globals()[df_name]\n",
    "    print(df.dtypes)\n",
    "    print()"
   ]
  },
  {
   "cell_type": "markdown",
   "metadata": {},
   "source": [
    "Confirmando a diversidade de tipos, o código abaixo deixará os tipos padronizados.\n",
    "\n",
    "Mas como não queremos perder os NaNs, a melhor abordagem é usar os tipos inteiros nulos (Int64), oferecidos pelo Pandas. Eles preservam os NaNs mesmo em colunas numéricas inteiras."
   ]
  },
  {
   "cell_type": "code",
   "execution_count": 5,
   "metadata": {
    "colab": {
     "base_uri": "https://localhost:8080/",
     "height": 390
    },
    "id": "ca56jrM-5kXM",
    "outputId": "cf96c583-7053-40ac-bada-cdf7c2964d9f"
   },
   "outputs": [],
   "source": [
    "customers_df = customers_df.astype({\n",
    "    'customer_id': 'string',\n",
    "    'customer_unique_id': 'string',\n",
    "    'customer_zip_code_prefix': 'string',\n",
    "    'customer_city': 'string',\n",
    "    'customer_state': 'string'\n",
    "})\n",
    "\n",
    "geolocation_df = geolocation_df.astype({\n",
    "    'geolocation_zip_code_prefix': 'string',\n",
    "    'geolocation_lat': 'float64',\n",
    "    'geolocation_lng': 'float64',\n",
    "    'geolocation_city': 'string',\n",
    "    'geolocation_state': 'string'\n",
    "})\n",
    "\n",
    "order_items_df = order_items_df.astype({\n",
    "    'order_id': 'string',\n",
    "    'order_item_id': 'Int64',\n",
    "    'product_id': 'string',\n",
    "    'seller_id': 'string',\n",
    "    'price': 'float64',\n",
    "    'freight_value': 'float64'\n",
    "})\n",
    "order_items_df['shipping_limit_date'] = pd.to_datetime(order_items_df['shipping_limit_date'])\n",
    "\n",
    "order_payments_df = order_payments_df.astype({\n",
    "    'order_id': 'string',\n",
    "    'payment_sequential': 'Int64',\n",
    "    'payment_type': 'string',\n",
    "    'payment_installments': 'Int64',\n",
    "    'payment_value': 'float64'\n",
    "})\n",
    "\n",
    "order_reviews_df = order_reviews_df.astype({\n",
    "    'review_id': 'string',\n",
    "    'order_id': 'string',\n",
    "    'review_score': 'Int64',\n",
    "    'review_comment_title': 'string',\n",
    "    'review_comment_message': 'string'\n",
    "})\n",
    "order_reviews_df['review_creation_date'] = pd.to_datetime(order_reviews_df['review_creation_date'])\n",
    "order_reviews_df['review_answer_timestamp'] = pd.to_datetime(order_reviews_df['review_answer_timestamp'])\n",
    "\n",
    "orders_df = orders_df.astype({\n",
    "    'order_id': 'string',\n",
    "    'customer_id': 'string',\n",
    "    'order_status': 'string'\n",
    "})\n",
    "orders_df['order_purchase_timestamp'] = pd.to_datetime(orders_df['order_purchase_timestamp'])\n",
    "orders_df['order_approved_at'] = pd.to_datetime(orders_df['order_approved_at'])\n",
    "orders_df['order_delivered_carrier_date'] = pd.to_datetime(orders_df['order_delivered_carrier_date'])\n",
    "orders_df['order_delivered_customer_date'] = pd.to_datetime(orders_df['order_delivered_customer_date'])\n",
    "orders_df['order_estimated_delivery_date'] = pd.to_datetime(orders_df['order_estimated_delivery_date'])\n",
    "\n",
    "products_df = products_df.astype({\n",
    "    'product_id': 'string',\n",
    "    'product_category_name': 'string',\n",
    "    'product_name_length': 'Int64',\n",
    "    'product_description_length': 'Int64',\n",
    "    'product_photos_qty': 'Int64',\n",
    "    'product_weight_g': 'float64',\n",
    "    'product_length_cm': 'float64',\n",
    "    'product_height_cm': 'float64',\n",
    "    'product_width_cm': 'float64'\n",
    "})\n",
    "\n",
    "sellers_df = sellers_df.astype({\n",
    "    'seller_id': 'string',\n",
    "    'seller_zip_code_prefix': 'string',\n",
    "    'seller_city': 'string',\n",
    "    'seller_state': 'string'\n",
    "})\n",
    "\n",
    "product_category_name_translation = product_category_name_translation.astype({\n",
    "    'product_category_name': 'string',\n",
    "    'product_category_name_english': 'string'\n",
    "})\n"
   ]
  },
  {
   "cell_type": "markdown",
   "metadata": {},
   "source": [
    "Dados como CEP foram deixados como `string` pois não fazemos cálculos matemáticos com o CEP. E se alguém tiver um cep 0001, ele se tranformaria em 1.\n",
    "E dados como centímetros, etc... foram transformados em `float`."
   ]
  },
  {
   "cell_type": "markdown",
   "metadata": {},
   "source": [
    "Com o código acima executado, vamos verificar se a mudança de tipos foi realizada."
   ]
  },
  {
   "cell_type": "code",
   "execution_count": 6,
   "metadata": {},
   "outputs": [
    {
     "name": "stdout",
     "output_type": "stream",
     "text": [
      "Dataframe: sellers_df\n",
      "seller_id                 string[python]\n",
      "seller_zip_code_prefix    string[python]\n",
      "seller_city               string[python]\n",
      "seller_state              string[python]\n",
      "dtype: object\n",
      "\n",
      "Dataframe: product_category_name_translation\n",
      "product_category_name            string[python]\n",
      "product_category_name_english    string[python]\n",
      "dtype: object\n",
      "\n",
      "Dataframe: orders_df\n",
      "order_id                         string[python]\n",
      "customer_id                      string[python]\n",
      "order_status                     string[python]\n",
      "order_purchase_timestamp         datetime64[ns]\n",
      "order_approved_at                datetime64[ns]\n",
      "order_delivered_carrier_date     datetime64[ns]\n",
      "order_delivered_customer_date    datetime64[ns]\n",
      "order_estimated_delivery_date    datetime64[ns]\n",
      "dtype: object\n",
      "\n",
      "Dataframe: order_items_df\n",
      "order_id               string[python]\n",
      "order_item_id                   Int64\n",
      "product_id             string[python]\n",
      "seller_id              string[python]\n",
      "shipping_limit_date    datetime64[ns]\n",
      "price                         float64\n",
      "freight_value                 float64\n",
      "dtype: object\n",
      "\n",
      "Dataframe: customers_df\n",
      "customer_id                 string[python]\n",
      "customer_unique_id          string[python]\n",
      "customer_zip_code_prefix    string[python]\n",
      "customer_city               string[python]\n",
      "customer_state              string[python]\n",
      "dtype: object\n",
      "\n",
      "Dataframe: geolocation_df\n",
      "geolocation_zip_code_prefix    string[python]\n",
      "geolocation_lat                       float64\n",
      "geolocation_lng                       float64\n",
      "geolocation_city               string[python]\n",
      "geolocation_state              string[python]\n",
      "dtype: object\n",
      "\n",
      "Dataframe: order_payments_df\n",
      "order_id                string[python]\n",
      "payment_sequential               Int64\n",
      "payment_type            string[python]\n",
      "payment_installments             Int64\n",
      "payment_value                  float64\n",
      "dtype: object\n",
      "\n",
      "Dataframe: order_reviews_df\n",
      "review_id                  string[python]\n",
      "order_id                   string[python]\n",
      "review_score                        Int64\n",
      "review_comment_title       string[python]\n",
      "review_comment_message     string[python]\n",
      "review_creation_date       datetime64[ns]\n",
      "review_answer_timestamp    datetime64[ns]\n",
      "dtype: object\n",
      "\n",
      "Dataframe: products_df\n",
      "product_id                    string[python]\n",
      "product_category_name         string[python]\n",
      "product_name_length                    Int64\n",
      "product_description_length             Int64\n",
      "product_photos_qty                     Int64\n",
      "product_weight_g                     float64\n",
      "product_length_cm                    float64\n",
      "product_height_cm                    float64\n",
      "product_width_cm                     float64\n",
      "dtype: object\n",
      "\n"
     ]
    }
   ],
   "source": [
    "# verificando tipos\n",
    "for df_name in dataframe_names:\n",
    "    print(f\"Dataframe: {df_name}\")\n",
    "    df = globals()[df_name]\n",
    "    print(df.dtypes)\n",
    "    print()"
   ]
  },
  {
   "cell_type": "markdown",
   "metadata": {},
   "source": [
    "Confirmamos que os tipos `object` foram removidos, deixando os tipos mais fáceis de entender e trabalhar."
   ]
  },
  {
   "cell_type": "markdown",
   "metadata": {},
   "source": [
    "## 1.5 - Resolvendo Duplicatas"
   ]
  },
  {
   "cell_type": "code",
   "execution_count": 27,
   "metadata": {},
   "outputs": [
    {
     "name": "stdout",
     "output_type": "stream",
     "text": [
      "sellers_df\n",
      "Pedidos duplicados: 0\n",
      "product_category_name_translation\n",
      "Pedidos duplicados: 0\n",
      "orders_df\n",
      "Pedidos duplicados: 0\n",
      "order_items_df\n",
      "Pedidos duplicados: 0\n",
      "customers_df\n",
      "Pedidos duplicados: 0\n",
      "geolocation_df\n",
      "Pedidos duplicados: 261831\n",
      "order_payments_df\n",
      "Pedidos duplicados: 0\n",
      "order_reviews_df\n",
      "Pedidos duplicados: 0\n",
      "products_df\n",
      "Pedidos duplicados: 0\n"
     ]
    }
   ],
   "source": [
    "# Verificando duplicatas\n",
    "\n",
    "for df_name in dataframe_names:\n",
    "    print(df_name)\n",
    "    df = globals()[df_name]\n",
    "    print(\"Pedidos duplicados:\", df.duplicated().sum())"
   ]
  },
  {
   "cell_type": "code",
   "execution_count": 28,
   "metadata": {},
   "outputs": [
    {
     "data": {
      "text/plain": [
       "1000163"
      ]
     },
     "execution_count": 28,
     "metadata": {},
     "output_type": "execute_result"
    }
   ],
   "source": [
    "# verificando quantidade de linhas\n",
    "geolocation_df.shape[0]"
   ]
  },
  {
   "cell_type": "code",
   "execution_count": 29,
   "metadata": {},
   "outputs": [
    {
     "data": {
      "text/html": [
       "<div>\n",
       "<style scoped>\n",
       "    .dataframe tbody tr th:only-of-type {\n",
       "        vertical-align: middle;\n",
       "    }\n",
       "\n",
       "    .dataframe tbody tr th {\n",
       "        vertical-align: top;\n",
       "    }\n",
       "\n",
       "    .dataframe thead th {\n",
       "        text-align: right;\n",
       "    }\n",
       "</style>\n",
       "<table border=\"1\" class=\"dataframe\">\n",
       "  <thead>\n",
       "    <tr style=\"text-align: right;\">\n",
       "      <th></th>\n",
       "      <th>geolocation_zip_code_prefix</th>\n",
       "      <th>geolocation_lat</th>\n",
       "      <th>geolocation_lng</th>\n",
       "      <th>geolocation_city</th>\n",
       "      <th>geolocation_state</th>\n",
       "    </tr>\n",
       "  </thead>\n",
       "  <tbody>\n",
       "    <tr>\n",
       "      <th>15</th>\n",
       "      <td>1046</td>\n",
       "      <td>-23.546081</td>\n",
       "      <td>-46.644820</td>\n",
       "      <td>sao paulo</td>\n",
       "      <td>SP</td>\n",
       "    </tr>\n",
       "    <tr>\n",
       "      <th>44</th>\n",
       "      <td>1046</td>\n",
       "      <td>-23.546081</td>\n",
       "      <td>-46.644820</td>\n",
       "      <td>sao paulo</td>\n",
       "      <td>SP</td>\n",
       "    </tr>\n",
       "    <tr>\n",
       "      <th>65</th>\n",
       "      <td>1046</td>\n",
       "      <td>-23.546081</td>\n",
       "      <td>-46.644820</td>\n",
       "      <td>sao paulo</td>\n",
       "      <td>SP</td>\n",
       "    </tr>\n",
       "    <tr>\n",
       "      <th>66</th>\n",
       "      <td>1009</td>\n",
       "      <td>-23.546935</td>\n",
       "      <td>-46.636588</td>\n",
       "      <td>sao paulo</td>\n",
       "      <td>SP</td>\n",
       "    </tr>\n",
       "    <tr>\n",
       "      <th>67</th>\n",
       "      <td>1046</td>\n",
       "      <td>-23.546081</td>\n",
       "      <td>-46.644820</td>\n",
       "      <td>sao paulo</td>\n",
       "      <td>SP</td>\n",
       "    </tr>\n",
       "    <tr>\n",
       "      <th>...</th>\n",
       "      <td>...</td>\n",
       "      <td>...</td>\n",
       "      <td>...</td>\n",
       "      <td>...</td>\n",
       "      <td>...</td>\n",
       "    </tr>\n",
       "    <tr>\n",
       "      <th>1000153</th>\n",
       "      <td>99970</td>\n",
       "      <td>-28.343273</td>\n",
       "      <td>-51.873734</td>\n",
       "      <td>ciriaco</td>\n",
       "      <td>RS</td>\n",
       "    </tr>\n",
       "    <tr>\n",
       "      <th>1000154</th>\n",
       "      <td>99950</td>\n",
       "      <td>-28.070493</td>\n",
       "      <td>-52.011342</td>\n",
       "      <td>tapejara</td>\n",
       "      <td>RS</td>\n",
       "    </tr>\n",
       "    <tr>\n",
       "      <th>1000159</th>\n",
       "      <td>99900</td>\n",
       "      <td>-27.877125</td>\n",
       "      <td>-52.224882</td>\n",
       "      <td>getulio vargas</td>\n",
       "      <td>RS</td>\n",
       "    </tr>\n",
       "    <tr>\n",
       "      <th>1000160</th>\n",
       "      <td>99950</td>\n",
       "      <td>-28.071855</td>\n",
       "      <td>-52.014716</td>\n",
       "      <td>tapejara</td>\n",
       "      <td>RS</td>\n",
       "    </tr>\n",
       "    <tr>\n",
       "      <th>1000162</th>\n",
       "      <td>99950</td>\n",
       "      <td>-28.070104</td>\n",
       "      <td>-52.018658</td>\n",
       "      <td>tapejara</td>\n",
       "      <td>RS</td>\n",
       "    </tr>\n",
       "  </tbody>\n",
       "</table>\n",
       "<p>261831 rows × 5 columns</p>\n",
       "</div>"
      ],
      "text/plain": [
       "        geolocation_zip_code_prefix  geolocation_lat  geolocation_lng  \\\n",
       "15                             1046       -23.546081       -46.644820   \n",
       "44                             1046       -23.546081       -46.644820   \n",
       "65                             1046       -23.546081       -46.644820   \n",
       "66                             1009       -23.546935       -46.636588   \n",
       "67                             1046       -23.546081       -46.644820   \n",
       "...                             ...              ...              ...   \n",
       "1000153                       99970       -28.343273       -51.873734   \n",
       "1000154                       99950       -28.070493       -52.011342   \n",
       "1000159                       99900       -27.877125       -52.224882   \n",
       "1000160                       99950       -28.071855       -52.014716   \n",
       "1000162                       99950       -28.070104       -52.018658   \n",
       "\n",
       "        geolocation_city geolocation_state  \n",
       "15             sao paulo                SP  \n",
       "44             sao paulo                SP  \n",
       "65             sao paulo                SP  \n",
       "66             sao paulo                SP  \n",
       "67             sao paulo                SP  \n",
       "...                  ...               ...  \n",
       "1000153          ciriaco                RS  \n",
       "1000154         tapejara                RS  \n",
       "1000159   getulio vargas                RS  \n",
       "1000160         tapejara                RS  \n",
       "1000162         tapejara                RS  \n",
       "\n",
       "[261831 rows x 5 columns]"
      ]
     },
     "execution_count": 29,
     "metadata": {},
     "output_type": "execute_result"
    }
   ],
   "source": [
    "# quantidade de itens duplicados\n",
    "geolocation_df[geolocation_df.duplicated()]"
   ]
  },
  {
   "cell_type": "markdown",
   "metadata": {},
   "source": [
    "Como o DataFrame geolocation_df é o único com duplicatas, podemos limpar as duplicatas.\n",
    "Isso só é possível pois temos o prefixo do zip code, latitude e longitude. Mesmo que várias pessoas morem na mesma casa, podemos recuperar o valor em apenas uma ocorrência."
   ]
  },
  {
   "cell_type": "code",
   "execution_count": 7,
   "metadata": {},
   "outputs": [],
   "source": [
    "geolocation_df = geolocation_df.drop_duplicates()"
   ]
  },
  {
   "cell_type": "markdown",
   "metadata": {},
   "source": [
    "Com o código acima executando sem problemas, podemos verificar novamente se os dataframes possuem duplicatas."
   ]
  },
  {
   "cell_type": "code",
   "execution_count": 8,
   "metadata": {},
   "outputs": [
    {
     "name": "stdout",
     "output_type": "stream",
     "text": [
      "sellers_df\n",
      "Pedidos duplicados: 0\n",
      "product_category_name_translation\n",
      "Pedidos duplicados: 0\n",
      "orders_df\n",
      "Pedidos duplicados: 0\n",
      "order_items_df\n",
      "Pedidos duplicados: 0\n",
      "customers_df\n",
      "Pedidos duplicados: 0\n",
      "geolocation_df\n",
      "Pedidos duplicados: 0\n",
      "order_payments_df\n",
      "Pedidos duplicados: 0\n",
      "order_reviews_df\n",
      "Pedidos duplicados: 0\n",
      "products_df\n",
      "Pedidos duplicados: 0\n"
     ]
    }
   ],
   "source": [
    "for df_name in dataframe_names:\n",
    "    print(df_name)\n",
    "    df = globals()[df_name]\n",
    "    print(\"Pedidos duplicados:\", df.duplicated().sum())"
   ]
  },
  {
   "cell_type": "markdown",
   "metadata": {},
   "source": [
    "## 1.6 - Modelo Relacional"
   ]
  },
  {
   "attachments": {
    "676a9b7b-dea6-4549-871a-ca472e8d47ec.png": {
     "image/png": "[encoded data removed]"
    }
   },
   "cell_type": "markdown",
   "metadata": {},
   "source": [
    "![image.png](attachment:676a9b7b-dea6-4549-871a-ca472e8d47ec.png)"
   ]
  },
  {
   "cell_type": "markdown",
   "metadata": {},
   "source": [
    "Levando em consideração a imagem original do Kaggle (mostrada acima), fiz o Modelo Relacional utilizando o site `dbdiagram.io`.\n",
    "\n",
    "É possível verificar o Modelo Relacional, acessando o link:\n",
    "https://dbdiagram.io/d/Modelo-Relacional-Olist-Ecommerce-68295e351227bdcb4ecb377a"
   ]
  },
  {
   "cell_type": "markdown",
   "metadata": {},
   "source": [
    "# 2 - Análise Exploratória de Dados "
   ]
  },
  {
   "cell_type": "markdown",
   "metadata": {},
   "source": [
    "Para esta etapa, usaremos `duckdb` para facilitar as consultas SQL."
   ]
  },
  {
   "cell_type": "markdown",
   "metadata": {},
   "source": [
    "### a) Qual o volume de pedidos por mês? Existe sazonalidade nas vendas?"
   ]
  },
  {
   "cell_type": "markdown",
   "metadata": {},
   "source": [
    "Para o volume de pedidos por mês (independente do ano), precisamos extrair os meses da data completa, agrupar eles e fazer uma contagem de pedidos."
   ]
  },
  {
   "cell_type": "code",
   "execution_count": 52,
   "metadata": {},
   "outputs": [],
   "source": [
    "query = \"\"\"\n",
    "SELECT \n",
    "  EXTRACT(MONTH FROM order_purchase_timestamp) AS mes,\n",
    "  COUNT(*) AS volume_pedidos\n",
    "FROM orders_df\n",
    "GROUP BY mes\n",
    "ORDER BY mes;\n",
    "\"\"\""
   ]
  },
  {
   "cell_type": "code",
   "execution_count": 53,
   "metadata": {},
   "outputs": [
    {
     "data": {
      "text/html": [
       "<div>\n",
       "<style scoped>\n",
       "    .dataframe tbody tr th:only-of-type {\n",
       "        vertical-align: middle;\n",
       "    }\n",
       "\n",
       "    .dataframe tbody tr th {\n",
       "        vertical-align: top;\n",
       "    }\n",
       "\n",
       "    .dataframe thead th {\n",
       "        text-align: right;\n",
       "    }\n",
       "</style>\n",
       "<table border=\"1\" class=\"dataframe\">\n",
       "  <thead>\n",
       "    <tr style=\"text-align: right;\">\n",
       "      <th></th>\n",
       "      <th>mes</th>\n",
       "      <th>volume_pedidos</th>\n",
       "    </tr>\n",
       "  </thead>\n",
       "  <tbody>\n",
       "    <tr>\n",
       "      <th>0</th>\n",
       "      <td>1</td>\n",
       "      <td>8069</td>\n",
       "    </tr>\n",
       "    <tr>\n",
       "      <th>1</th>\n",
       "      <td>2</td>\n",
       "      <td>8508</td>\n",
       "    </tr>\n",
       "    <tr>\n",
       "      <th>2</th>\n",
       "      <td>3</td>\n",
       "      <td>9893</td>\n",
       "    </tr>\n",
       "    <tr>\n",
       "      <th>3</th>\n",
       "      <td>4</td>\n",
       "      <td>9343</td>\n",
       "    </tr>\n",
       "    <tr>\n",
       "      <th>4</th>\n",
       "      <td>5</td>\n",
       "      <td>10573</td>\n",
       "    </tr>\n",
       "    <tr>\n",
       "      <th>5</th>\n",
       "      <td>6</td>\n",
       "      <td>9412</td>\n",
       "    </tr>\n",
       "    <tr>\n",
       "      <th>6</th>\n",
       "      <td>7</td>\n",
       "      <td>10318</td>\n",
       "    </tr>\n",
       "    <tr>\n",
       "      <th>7</th>\n",
       "      <td>8</td>\n",
       "      <td>10843</td>\n",
       "    </tr>\n",
       "    <tr>\n",
       "      <th>8</th>\n",
       "      <td>9</td>\n",
       "      <td>4305</td>\n",
       "    </tr>\n",
       "    <tr>\n",
       "      <th>9</th>\n",
       "      <td>10</td>\n",
       "      <td>4959</td>\n",
       "    </tr>\n",
       "    <tr>\n",
       "      <th>10</th>\n",
       "      <td>11</td>\n",
       "      <td>7544</td>\n",
       "    </tr>\n",
       "    <tr>\n",
       "      <th>11</th>\n",
       "      <td>12</td>\n",
       "      <td>5674</td>\n",
       "    </tr>\n",
       "  </tbody>\n",
       "</table>\n",
       "</div>"
      ],
      "text/plain": [
       "    mes  volume_pedidos\n",
       "0     1            8069\n",
       "1     2            8508\n",
       "2     3            9893\n",
       "3     4            9343\n",
       "4     5           10573\n",
       "5     6            9412\n",
       "6     7           10318\n",
       "7     8           10843\n",
       "8     9            4305\n",
       "9    10            4959\n",
       "10   11            7544\n",
       "11   12            5674"
      ]
     },
     "execution_count": 53,
     "metadata": {},
     "output_type": "execute_result"
    }
   ],
   "source": [
    "df = con.execute(query).df()\n",
    "\n",
    "df"
   ]
  },
  {
   "cell_type": "markdown",
   "metadata": {},
   "source": [
    "Para a sazonalidade, mudaremos um pouco da query. Será parecida com a anterior, mas agora também é necessário fazer a extração dos anos. Depois, será feito o agrupamento baseado no mês e ano, pois precisamos saber das vendas em cada período, para tirar conclusões."
   ]
  },
  {
   "cell_type": "code",
   "execution_count": 54,
   "metadata": {},
   "outputs": [],
   "source": [
    "query = \"\"\"\n",
    "SELECT \n",
    "  EXTRACT(YEAR FROM order_purchase_timestamp) AS ano,\n",
    "  EXTRACT(MONTH FROM order_purchase_timestamp) AS mes,\n",
    "  COUNT(*) AS volume_pedidos\n",
    "FROM orders_df\n",
    "GROUP BY ano, mes\n",
    "ORDER BY ano, mes;\n",
    "\"\"\""
   ]
  },
  {
   "cell_type": "code",
   "execution_count": 55,
   "metadata": {},
   "outputs": [
    {
     "data": {
      "text/html": [
       "<div>\n",
       "<style scoped>\n",
       "    .dataframe tbody tr th:only-of-type {\n",
       "        vertical-align: middle;\n",
       "    }\n",
       "\n",
       "    .dataframe tbody tr th {\n",
       "        vertical-align: top;\n",
       "    }\n",
       "\n",
       "    .dataframe thead th {\n",
       "        text-align: right;\n",
       "    }\n",
       "</style>\n",
       "<table border=\"1\" class=\"dataframe\">\n",
       "  <thead>\n",
       "    <tr style=\"text-align: right;\">\n",
       "      <th></th>\n",
       "      <th>ano</th>\n",
       "      <th>mes</th>\n",
       "      <th>volume_pedidos</th>\n",
       "    </tr>\n",
       "  </thead>\n",
       "  <tbody>\n",
       "    <tr>\n",
       "      <th>0</th>\n",
       "      <td>2016</td>\n",
       "      <td>9</td>\n",
       "      <td>4</td>\n",
       "    </tr>\n",
       "    <tr>\n",
       "      <th>1</th>\n",
       "      <td>2016</td>\n",
       "      <td>10</td>\n",
       "      <td>324</td>\n",
       "    </tr>\n",
       "    <tr>\n",
       "      <th>2</th>\n",
       "      <td>2016</td>\n",
       "      <td>12</td>\n",
       "      <td>1</td>\n",
       "    </tr>\n",
       "    <tr>\n",
       "      <th>3</th>\n",
       "      <td>2017</td>\n",
       "      <td>1</td>\n",
       "      <td>800</td>\n",
       "    </tr>\n",
       "    <tr>\n",
       "      <th>4</th>\n",
       "      <td>2017</td>\n",
       "      <td>2</td>\n",
       "      <td>1780</td>\n",
       "    </tr>\n",
       "    <tr>\n",
       "      <th>5</th>\n",
       "      <td>2017</td>\n",
       "      <td>3</td>\n",
       "      <td>2682</td>\n",
       "    </tr>\n",
       "    <tr>\n",
       "      <th>6</th>\n",
       "      <td>2017</td>\n",
       "      <td>4</td>\n",
       "      <td>2404</td>\n",
       "    </tr>\n",
       "    <tr>\n",
       "      <th>7</th>\n",
       "      <td>2017</td>\n",
       "      <td>5</td>\n",
       "      <td>3700</td>\n",
       "    </tr>\n",
       "    <tr>\n",
       "      <th>8</th>\n",
       "      <td>2017</td>\n",
       "      <td>6</td>\n",
       "      <td>3245</td>\n",
       "    </tr>\n",
       "    <tr>\n",
       "      <th>9</th>\n",
       "      <td>2017</td>\n",
       "      <td>7</td>\n",
       "      <td>4026</td>\n",
       "    </tr>\n",
       "    <tr>\n",
       "      <th>10</th>\n",
       "      <td>2017</td>\n",
       "      <td>8</td>\n",
       "      <td>4331</td>\n",
       "    </tr>\n",
       "    <tr>\n",
       "      <th>11</th>\n",
       "      <td>2017</td>\n",
       "      <td>9</td>\n",
       "      <td>4285</td>\n",
       "    </tr>\n",
       "    <tr>\n",
       "      <th>12</th>\n",
       "      <td>2017</td>\n",
       "      <td>10</td>\n",
       "      <td>4631</td>\n",
       "    </tr>\n",
       "    <tr>\n",
       "      <th>13</th>\n",
       "      <td>2017</td>\n",
       "      <td>11</td>\n",
       "      <td>7544</td>\n",
       "    </tr>\n",
       "    <tr>\n",
       "      <th>14</th>\n",
       "      <td>2017</td>\n",
       "      <td>12</td>\n",
       "      <td>5673</td>\n",
       "    </tr>\n",
       "    <tr>\n",
       "      <th>15</th>\n",
       "      <td>2018</td>\n",
       "      <td>1</td>\n",
       "      <td>7269</td>\n",
       "    </tr>\n",
       "    <tr>\n",
       "      <th>16</th>\n",
       "      <td>2018</td>\n",
       "      <td>2</td>\n",
       "      <td>6728</td>\n",
       "    </tr>\n",
       "    <tr>\n",
       "      <th>17</th>\n",
       "      <td>2018</td>\n",
       "      <td>3</td>\n",
       "      <td>7211</td>\n",
       "    </tr>\n",
       "    <tr>\n",
       "      <th>18</th>\n",
       "      <td>2018</td>\n",
       "      <td>4</td>\n",
       "      <td>6939</td>\n",
       "    </tr>\n",
       "    <tr>\n",
       "      <th>19</th>\n",
       "      <td>2018</td>\n",
       "      <td>5</td>\n",
       "      <td>6873</td>\n",
       "    </tr>\n",
       "    <tr>\n",
       "      <th>20</th>\n",
       "      <td>2018</td>\n",
       "      <td>6</td>\n",
       "      <td>6167</td>\n",
       "    </tr>\n",
       "    <tr>\n",
       "      <th>21</th>\n",
       "      <td>2018</td>\n",
       "      <td>7</td>\n",
       "      <td>6292</td>\n",
       "    </tr>\n",
       "    <tr>\n",
       "      <th>22</th>\n",
       "      <td>2018</td>\n",
       "      <td>8</td>\n",
       "      <td>6512</td>\n",
       "    </tr>\n",
       "    <tr>\n",
       "      <th>23</th>\n",
       "      <td>2018</td>\n",
       "      <td>9</td>\n",
       "      <td>16</td>\n",
       "    </tr>\n",
       "    <tr>\n",
       "      <th>24</th>\n",
       "      <td>2018</td>\n",
       "      <td>10</td>\n",
       "      <td>4</td>\n",
       "    </tr>\n",
       "  </tbody>\n",
       "</table>\n",
       "</div>"
      ],
      "text/plain": [
       "     ano  mes  volume_pedidos\n",
       "0   2016    9               4\n",
       "1   2016   10             324\n",
       "2   2016   12               1\n",
       "3   2017    1             800\n",
       "4   2017    2            1780\n",
       "5   2017    3            2682\n",
       "6   2017    4            2404\n",
       "7   2017    5            3700\n",
       "8   2017    6            3245\n",
       "9   2017    7            4026\n",
       "10  2017    8            4331\n",
       "11  2017    9            4285\n",
       "12  2017   10            4631\n",
       "13  2017   11            7544\n",
       "14  2017   12            5673\n",
       "15  2018    1            7269\n",
       "16  2018    2            6728\n",
       "17  2018    3            7211\n",
       "18  2018    4            6939\n",
       "19  2018    5            6873\n",
       "20  2018    6            6167\n",
       "21  2018    7            6292\n",
       "22  2018    8            6512\n",
       "23  2018    9              16\n",
       "24  2018   10               4"
      ]
     },
     "execution_count": 55,
     "metadata": {},
     "output_type": "execute_result"
    }
   ],
   "source": [
    "df = con.execute(query).df()\n",
    "\n",
    "df"
   ]
  },
  {
   "cell_type": "markdown",
   "metadata": {},
   "source": [
    "Agora que já temos os dados de cada mês/ano, vamos tentar visualizar melhor com um gráfico de linhas comparativo por ano. Usaremos a biblioteca `matplotlib` para o gráfico e `calendar` para facilitar o entendimento dos meses."
   ]
  },
  {
   "cell_type": "code",
   "execution_count": 60,
   "metadata": {},
   "outputs": [
    {
     "data": {
      "image/png": "[encoded data removed]",
      "text/plain": [
       "<Figure size 1200x600 with 1 Axes>"
      ]
     },
     "metadata": {},
     "output_type": "display_data"
    }
   ],
   "source": [
    "df['mes_nome'] = df['mes'].apply(lambda x: calendar.month_abbr[int(x)])\n",
    "\n",
    "plt.figure(figsize=(12, 6))\n",
    "for ano in sorted(df['ano'].unique()):\n",
    "    dados = df[df['ano'] == ano]\n",
    "    plt.plot(dados['mes'], dados['volume_pedidos'], marker='o', label=str(ano))\n",
    "\n",
    "plt.title('Sazonalidade: Volume de pedidos por mês (comparado entre anos)')\n",
    "plt.xlabel('Mês')\n",
    "plt.ylabel('Volume de pedidos')\n",
    "plt.xticks(ticks=range(1,13), labels=calendar.month_abbr[1:])\n",
    "plt.legend(title='Ano')\n",
    "plt.grid(True)\n",
    "plt.tight_layout()\n",
    "plt.show()"
   ]
  },
  {
   "cell_type": "markdown",
   "metadata": {},
   "source": [
    "Ao analisar os dados pelo gráfico e query, percebe-se que:\n",
    "\n",
    "- Em 2016, o volume está muito baixo e meio incompleto (apenas 4 em setembro, 324 em outubro, 1 em dezembro). O dataset da olist começou perto do fim de 2016.\n",
    "\n",
    "- De 2017 para frente, os volumes mensais aumentam bastante, o que é esperado. Já é possível verificar que dezembro tem 5673 pedidos, novembro tem 7544 (bem alto), e o meio do ano tem volumes razoáveis.\n",
    "\n",
    "- Em 2018, volumes altos até agosto, mas setembro e outubro mostram valores muito baixos (16 e 4 pedidos), provavelmente faltando dados, já que são os últimos do dataset original.\n",
    "\n",
    "Parece haver um aumento grande no fim do ano (novembro, dezembro) em 2017, que pode indicar um pico sazonal relacionado a compras de fim de ano, Black Friday, Natal.\n",
    "\n",
    "No meio do ano, os volumes parecem um pouco menores, talvez uma leve queda, mas nada tão forte.\n",
    "\n",
    "Como 2018 está incompleto no final do ano, não dá pra confirmar se o padrão se mantém.\n",
    "\n"
   ]
  },
  {
   "cell_type": "markdown",
   "metadata": {},
   "source": [
    "### b) Qual a distribuição do tempo de entrega dos pedidos?"
   ]
  },
  {
   "cell_type": "code",
   "execution_count": 63,
   "metadata": {},
   "outputs": [],
   "source": [
    "query = \"\"\"\n",
    "SELECT \n",
    "  CAST(order_delivered_customer_date AS DATE) - CAST(order_purchase_timestamp AS DATE) AS delivery_time_days\n",
    "FROM orders_df\n",
    "WHERE order_delivered_customer_date IS NOT NULL\n",
    "  AND order_purchase_timestamp IS NOT NULL\n",
    "  AND order_delivered_customer_date >= order_purchase_timestamp;\n",
    "\"\"\""
   ]
  },
  {
   "cell_type": "code",
   "execution_count": 64,
   "metadata": {},
   "outputs": [
    {
     "data": {
      "text/html": [
       "<div>\n",
       "<style scoped>\n",
       "    .dataframe tbody tr th:only-of-type {\n",
       "        vertical-align: middle;\n",
       "    }\n",
       "\n",
       "    .dataframe tbody tr th {\n",
       "        vertical-align: top;\n",
       "    }\n",
       "\n",
       "    .dataframe thead th {\n",
       "        text-align: right;\n",
       "    }\n",
       "</style>\n",
       "<table border=\"1\" class=\"dataframe\">\n",
       "  <thead>\n",
       "    <tr style=\"text-align: right;\">\n",
       "      <th></th>\n",
       "      <th>delivery_time_days</th>\n",
       "    </tr>\n",
       "  </thead>\n",
       "  <tbody>\n",
       "    <tr>\n",
       "      <th>0</th>\n",
       "      <td>8</td>\n",
       "    </tr>\n",
       "    <tr>\n",
       "      <th>1</th>\n",
       "      <td>14</td>\n",
       "    </tr>\n",
       "    <tr>\n",
       "      <th>2</th>\n",
       "      <td>9</td>\n",
       "    </tr>\n",
       "    <tr>\n",
       "      <th>3</th>\n",
       "      <td>14</td>\n",
       "    </tr>\n",
       "    <tr>\n",
       "      <th>4</th>\n",
       "      <td>3</td>\n",
       "    </tr>\n",
       "    <tr>\n",
       "      <th>...</th>\n",
       "      <td>...</td>\n",
       "    </tr>\n",
       "    <tr>\n",
       "      <th>96471</th>\n",
       "      <td>8</td>\n",
       "    </tr>\n",
       "    <tr>\n",
       "      <th>96472</th>\n",
       "      <td>22</td>\n",
       "    </tr>\n",
       "    <tr>\n",
       "      <th>96473</th>\n",
       "      <td>25</td>\n",
       "    </tr>\n",
       "    <tr>\n",
       "      <th>96474</th>\n",
       "      <td>17</td>\n",
       "    </tr>\n",
       "    <tr>\n",
       "      <th>96475</th>\n",
       "      <td>8</td>\n",
       "    </tr>\n",
       "  </tbody>\n",
       "</table>\n",
       "<p>96476 rows × 1 columns</p>\n",
       "</div>"
      ],
      "text/plain": [
       "       delivery_time_days\n",
       "0                       8\n",
       "1                      14\n",
       "2                       9\n",
       "3                      14\n",
       "4                       3\n",
       "...                   ...\n",
       "96471                   8\n",
       "96472                  22\n",
       "96473                  25\n",
       "96474                  17\n",
       "96475                   8\n",
       "\n",
       "[96476 rows x 1 columns]"
      ]
     },
     "execution_count": 64,
     "metadata": {},
     "output_type": "execute_result"
    }
   ],
   "source": [
    "df = con.execute(query).df()\n",
    "\n",
    "df"
   ]
  },
  {
   "cell_type": "code",
   "execution_count": 65,
   "metadata": {},
   "outputs": [
    {
     "data": {
      "image/png": "[encoded data removed]",
      "text/plain": [
       "<Figure size 1000x500 with 1 Axes>"
      ]
     },
     "metadata": {},
     "output_type": "display_data"
    }
   ],
   "source": [
    "plt.figure(figsize=(10,5))\n",
    "plt.hist(df['delivery_time_days'], bins=30, color='skyblue', edgecolor='black')\n",
    "plt.title('Distribuição do tempo de entrega (dias)')\n",
    "plt.xlabel('Dias')\n",
    "plt.ylabel('Quantidade de pedidos')\n",
    "plt.show()"
   ]
  },
  {
   "cell_type": "code",
   "execution_count": 62,
   "metadata": {},
   "outputs": [
    {
     "name": "stdout",
     "output_type": "stream",
     "text": [
      "   mes  volume_pedidos\n",
      "0    9               4\n",
      "1   10             324\n",
      "2   12               1\n"
     ]
    }
   ],
   "source": [
    "### teste de leitura direto do csv\n",
    "\n",
    "query = \"\"\"\n",
    "SELECT \n",
    "  EXTRACT(MONTH FROM order_purchase_timestamp) as mes,\n",
    "  COUNT(*) as volume_pedidos\n",
    "FROM 'brazilian_ecommerce/olist_orders_dataset.csv'\n",
    "WHERE EXTRACT(YEAR FROM order_purchase_timestamp) = 2016\n",
    "GROUP BY mes\n",
    "ORDER BY mes\n",
    "\"\"\"\n",
    "\n",
    "result = duckdb.query(query).df()\n",
    "print(result)"
   ]
  },
  {
   "cell_type": "code",
   "execution_count": null,
   "metadata": {},
   "outputs": [],
   "source": []
  }
 ],
 "metadata": {
  "colab": {
   "provenance": []
  },
  "kernelspec": {
   "display_name": "Python 3 (ipykernel)",
   "language": "python",
   "name": "python3"
  },
  "language_info": {
   "codemirror_mode": {
    "name": "ipython",
    "version": 3
   },
   "file_extension": ".py",
   "mimetype": "text/x-python",
   "name": "python",
   "nbconvert_exporter": "python",
   "pygments_lexer": "ipython3",
   "version": "3.13.2"
  }
 },
 "nbformat": 4,
 "nbformat_minor": 4
}
